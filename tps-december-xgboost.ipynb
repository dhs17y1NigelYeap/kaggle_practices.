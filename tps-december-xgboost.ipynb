{
 "cells": [
  {
   "cell_type": "markdown",
   "id": "3d54d9f1",
   "metadata": {
    "papermill": {
     "duration": 0.005616,
     "end_time": "2022-12-24T13:02:49.540111",
     "exception": false,
     "start_time": "2022-12-24T13:02:49.534495",
     "status": "completed"
    },
    "tags": []
   },
   "source": [
    "# **Welcome!**\n",
    "This is my take on the TPS-December using XGBoost. This was partially created with the findings of other users on the platform.\n",
    "\n",
    "Contents:\n",
    "1.  [Importing and reading data](#import)\n",
    "2.  [Basic data prep work](#prep)\n",
    "3.  [Data visualisation](#visual)\n",
    "4.  [Time saving](#time)\n",
    "5.  [Preparing data for model](#split)\n",
    "6.  [Model evaluation](#eval)\n"
   ]
  },
  {
   "cell_type": "markdown",
   "id": "042ee5fa",
   "metadata": {
    "papermill": {
     "duration": 0.004643,
     "end_time": "2022-12-24T13:02:49.549478",
     "exception": false,
     "start_time": "2022-12-24T13:02:49.544835",
     "status": "completed"
    },
    "tags": []
   },
   "source": [
    "### **Importing and reading data<a name = \"import\"></a>**\n",
    "\n",
    "In order to get a good grasp of the data we are working with, let's display each csv that we were provided with. Using this, we can analyse which columns to remove, which column represents the target value as well as which columns require feature scaling."
   ]
  },
  {
   "cell_type": "code",
   "execution_count": 1,
   "id": "93bd9e87",
   "metadata": {
    "execution": {
     "iopub.execute_input": "2022-12-24T13:02:49.561197Z",
     "iopub.status.busy": "2022-12-24T13:02:49.560362Z",
     "iopub.status.idle": "2022-12-24T13:03:12.940851Z",
     "shell.execute_reply": "2022-12-24T13:03:12.939965Z"
    },
    "papermill": {
     "duration": 23.388747,
     "end_time": "2022-12-24T13:03:12.943074",
     "exception": false,
     "start_time": "2022-12-24T13:02:49.554327",
     "status": "completed"
    },
    "tags": []
   },
   "outputs": [
    {
     "data": {
      "text/html": [
       "<div>\n",
       "<style scoped>\n",
       "    .dataframe tbody tr th:only-of-type {\n",
       "        vertical-align: middle;\n",
       "    }\n",
       "\n",
       "    .dataframe tbody tr th {\n",
       "        vertical-align: top;\n",
       "    }\n",
       "\n",
       "    .dataframe thead th {\n",
       "        text-align: right;\n",
       "    }\n",
       "</style>\n",
       "<table border=\"1\" class=\"dataframe\">\n",
       "  <thead>\n",
       "    <tr style=\"text-align: right;\">\n",
       "      <th></th>\n",
       "      <th>Id</th>\n",
       "      <th>Elevation</th>\n",
       "      <th>Aspect</th>\n",
       "      <th>Slope</th>\n",
       "      <th>Horizontal_Distance_To_Hydrology</th>\n",
       "      <th>Vertical_Distance_To_Hydrology</th>\n",
       "      <th>Horizontal_Distance_To_Roadways</th>\n",
       "      <th>Hillshade_9am</th>\n",
       "      <th>Hillshade_Noon</th>\n",
       "      <th>Hillshade_3pm</th>\n",
       "      <th>...</th>\n",
       "      <th>Soil_Type32</th>\n",
       "      <th>Soil_Type33</th>\n",
       "      <th>Soil_Type34</th>\n",
       "      <th>Soil_Type35</th>\n",
       "      <th>Soil_Type36</th>\n",
       "      <th>Soil_Type37</th>\n",
       "      <th>Soil_Type38</th>\n",
       "      <th>Soil_Type39</th>\n",
       "      <th>Soil_Type40</th>\n",
       "      <th>Cover_Type</th>\n",
       "    </tr>\n",
       "  </thead>\n",
       "  <tbody>\n",
       "    <tr>\n",
       "      <th>0</th>\n",
       "      <td>0</td>\n",
       "      <td>3189</td>\n",
       "      <td>40</td>\n",
       "      <td>8</td>\n",
       "      <td>30</td>\n",
       "      <td>13</td>\n",
       "      <td>3270</td>\n",
       "      <td>206</td>\n",
       "      <td>234</td>\n",
       "      <td>193</td>\n",
       "      <td>...</td>\n",
       "      <td>0</td>\n",
       "      <td>0</td>\n",
       "      <td>0</td>\n",
       "      <td>0</td>\n",
       "      <td>0</td>\n",
       "      <td>0</td>\n",
       "      <td>0</td>\n",
       "      <td>0</td>\n",
       "      <td>0</td>\n",
       "      <td>1</td>\n",
       "    </tr>\n",
       "    <tr>\n",
       "      <th>1</th>\n",
       "      <td>1</td>\n",
       "      <td>3026</td>\n",
       "      <td>182</td>\n",
       "      <td>5</td>\n",
       "      <td>280</td>\n",
       "      <td>29</td>\n",
       "      <td>3270</td>\n",
       "      <td>233</td>\n",
       "      <td>240</td>\n",
       "      <td>106</td>\n",
       "      <td>...</td>\n",
       "      <td>0</td>\n",
       "      <td>0</td>\n",
       "      <td>0</td>\n",
       "      <td>0</td>\n",
       "      <td>0</td>\n",
       "      <td>0</td>\n",
       "      <td>0</td>\n",
       "      <td>0</td>\n",
       "      <td>0</td>\n",
       "      <td>2</td>\n",
       "    </tr>\n",
       "    <tr>\n",
       "      <th>2</th>\n",
       "      <td>2</td>\n",
       "      <td>3106</td>\n",
       "      <td>13</td>\n",
       "      <td>7</td>\n",
       "      <td>351</td>\n",
       "      <td>37</td>\n",
       "      <td>2914</td>\n",
       "      <td>208</td>\n",
       "      <td>234</td>\n",
       "      <td>137</td>\n",
       "      <td>...</td>\n",
       "      <td>0</td>\n",
       "      <td>0</td>\n",
       "      <td>0</td>\n",
       "      <td>0</td>\n",
       "      <td>0</td>\n",
       "      <td>0</td>\n",
       "      <td>0</td>\n",
       "      <td>0</td>\n",
       "      <td>0</td>\n",
       "      <td>1</td>\n",
       "    </tr>\n",
       "    <tr>\n",
       "      <th>3</th>\n",
       "      <td>3</td>\n",
       "      <td>3022</td>\n",
       "      <td>276</td>\n",
       "      <td>13</td>\n",
       "      <td>192</td>\n",
       "      <td>16</td>\n",
       "      <td>3034</td>\n",
       "      <td>207</td>\n",
       "      <td>238</td>\n",
       "      <td>156</td>\n",
       "      <td>...</td>\n",
       "      <td>0</td>\n",
       "      <td>0</td>\n",
       "      <td>0</td>\n",
       "      <td>0</td>\n",
       "      <td>0</td>\n",
       "      <td>0</td>\n",
       "      <td>0</td>\n",
       "      <td>0</td>\n",
       "      <td>0</td>\n",
       "      <td>2</td>\n",
       "    </tr>\n",
       "    <tr>\n",
       "      <th>4</th>\n",
       "      <td>4</td>\n",
       "      <td>2906</td>\n",
       "      <td>186</td>\n",
       "      <td>13</td>\n",
       "      <td>266</td>\n",
       "      <td>22</td>\n",
       "      <td>2916</td>\n",
       "      <td>231</td>\n",
       "      <td>231</td>\n",
       "      <td>154</td>\n",
       "      <td>...</td>\n",
       "      <td>0</td>\n",
       "      <td>0</td>\n",
       "      <td>0</td>\n",
       "      <td>0</td>\n",
       "      <td>0</td>\n",
       "      <td>0</td>\n",
       "      <td>0</td>\n",
       "      <td>0</td>\n",
       "      <td>0</td>\n",
       "      <td>2</td>\n",
       "    </tr>\n",
       "  </tbody>\n",
       "</table>\n",
       "<p>5 rows × 56 columns</p>\n",
       "</div>"
      ],
      "text/plain": [
       "   Id  Elevation  Aspect  Slope  Horizontal_Distance_To_Hydrology  \\\n",
       "0   0       3189      40      8                                30   \n",
       "1   1       3026     182      5                               280   \n",
       "2   2       3106      13      7                               351   \n",
       "3   3       3022     276     13                               192   \n",
       "4   4       2906     186     13                               266   \n",
       "\n",
       "   Vertical_Distance_To_Hydrology  Horizontal_Distance_To_Roadways  \\\n",
       "0                              13                             3270   \n",
       "1                              29                             3270   \n",
       "2                              37                             2914   \n",
       "3                              16                             3034   \n",
       "4                              22                             2916   \n",
       "\n",
       "   Hillshade_9am  Hillshade_Noon  Hillshade_3pm  ...  Soil_Type32  \\\n",
       "0            206             234            193  ...            0   \n",
       "1            233             240            106  ...            0   \n",
       "2            208             234            137  ...            0   \n",
       "3            207             238            156  ...            0   \n",
       "4            231             231            154  ...            0   \n",
       "\n",
       "   Soil_Type33  Soil_Type34  Soil_Type35  Soil_Type36  Soil_Type37  \\\n",
       "0            0            0            0            0            0   \n",
       "1            0            0            0            0            0   \n",
       "2            0            0            0            0            0   \n",
       "3            0            0            0            0            0   \n",
       "4            0            0            0            0            0   \n",
       "\n",
       "   Soil_Type38  Soil_Type39  Soil_Type40  Cover_Type  \n",
       "0            0            0            0           1  \n",
       "1            0            0            0           2  \n",
       "2            0            0            0           1  \n",
       "3            0            0            0           2  \n",
       "4            0            0            0           2  \n",
       "\n",
       "[5 rows x 56 columns]"
      ]
     },
     "execution_count": 1,
     "metadata": {},
     "output_type": "execute_result"
    }
   ],
   "source": [
    "import pandas as pd\n",
    "import seaborn as sns\n",
    "import matplotlib.pyplot as plt\n",
    "import time\n",
    "import numpy as np\n",
    "from xgboost import XGBClassifier\n",
    "from sklearn.metrics import accuracy_score\n",
    "from sklearn.model_selection import StratifiedKFold\n",
    "from sklearn.preprocessing import LabelEncoder\n",
    "\n",
    "\n",
    "train = pd.read_csv(\"/kaggle/input/tabular-playground-series-dec-2021/train.csv\")\n",
    "test = pd.read_csv(\"/kaggle/input/tabular-playground-series-dec-2021/test.csv\")\n",
    "submission = pd.read_csv(\"/kaggle/input/tabular-playground-series-dec-2021/sample_submission.csv\")\n",
    "train.head()"
   ]
  },
  {
   "cell_type": "code",
   "execution_count": 2,
   "id": "c0b50ee8",
   "metadata": {
    "execution": {
     "iopub.execute_input": "2022-12-24T13:03:12.955233Z",
     "iopub.status.busy": "2022-12-24T13:03:12.954351Z",
     "iopub.status.idle": "2022-12-24T13:03:12.969365Z",
     "shell.execute_reply": "2022-12-24T13:03:12.968359Z"
    },
    "papermill": {
     "duration": 0.023409,
     "end_time": "2022-12-24T13:03:12.971812",
     "exception": false,
     "start_time": "2022-12-24T13:03:12.948403",
     "status": "completed"
    },
    "tags": []
   },
   "outputs": [
    {
     "data": {
      "text/html": [
       "<div>\n",
       "<style scoped>\n",
       "    .dataframe tbody tr th:only-of-type {\n",
       "        vertical-align: middle;\n",
       "    }\n",
       "\n",
       "    .dataframe tbody tr th {\n",
       "        vertical-align: top;\n",
       "    }\n",
       "\n",
       "    .dataframe thead th {\n",
       "        text-align: right;\n",
       "    }\n",
       "</style>\n",
       "<table border=\"1\" class=\"dataframe\">\n",
       "  <thead>\n",
       "    <tr style=\"text-align: right;\">\n",
       "      <th></th>\n",
       "      <th>Id</th>\n",
       "      <th>Elevation</th>\n",
       "      <th>Aspect</th>\n",
       "      <th>Slope</th>\n",
       "      <th>Horizontal_Distance_To_Hydrology</th>\n",
       "      <th>Vertical_Distance_To_Hydrology</th>\n",
       "      <th>Horizontal_Distance_To_Roadways</th>\n",
       "      <th>Hillshade_9am</th>\n",
       "      <th>Hillshade_Noon</th>\n",
       "      <th>Hillshade_3pm</th>\n",
       "      <th>...</th>\n",
       "      <th>Soil_Type31</th>\n",
       "      <th>Soil_Type32</th>\n",
       "      <th>Soil_Type33</th>\n",
       "      <th>Soil_Type34</th>\n",
       "      <th>Soil_Type35</th>\n",
       "      <th>Soil_Type36</th>\n",
       "      <th>Soil_Type37</th>\n",
       "      <th>Soil_Type38</th>\n",
       "      <th>Soil_Type39</th>\n",
       "      <th>Soil_Type40</th>\n",
       "    </tr>\n",
       "  </thead>\n",
       "  <tbody>\n",
       "    <tr>\n",
       "      <th>0</th>\n",
       "      <td>4000000</td>\n",
       "      <td>2763</td>\n",
       "      <td>78</td>\n",
       "      <td>20</td>\n",
       "      <td>377</td>\n",
       "      <td>88</td>\n",
       "      <td>3104</td>\n",
       "      <td>218</td>\n",
       "      <td>213</td>\n",
       "      <td>195</td>\n",
       "      <td>...</td>\n",
       "      <td>0</td>\n",
       "      <td>0</td>\n",
       "      <td>0</td>\n",
       "      <td>0</td>\n",
       "      <td>0</td>\n",
       "      <td>0</td>\n",
       "      <td>0</td>\n",
       "      <td>0</td>\n",
       "      <td>0</td>\n",
       "      <td>0</td>\n",
       "    </tr>\n",
       "    <tr>\n",
       "      <th>1</th>\n",
       "      <td>4000001</td>\n",
       "      <td>2826</td>\n",
       "      <td>153</td>\n",
       "      <td>11</td>\n",
       "      <td>264</td>\n",
       "      <td>39</td>\n",
       "      <td>295</td>\n",
       "      <td>219</td>\n",
       "      <td>238</td>\n",
       "      <td>148</td>\n",
       "      <td>...</td>\n",
       "      <td>0</td>\n",
       "      <td>0</td>\n",
       "      <td>0</td>\n",
       "      <td>0</td>\n",
       "      <td>0</td>\n",
       "      <td>0</td>\n",
       "      <td>0</td>\n",
       "      <td>0</td>\n",
       "      <td>0</td>\n",
       "      <td>0</td>\n",
       "    </tr>\n",
       "    <tr>\n",
       "      <th>2</th>\n",
       "      <td>4000002</td>\n",
       "      <td>2948</td>\n",
       "      <td>57</td>\n",
       "      <td>19</td>\n",
       "      <td>56</td>\n",
       "      <td>44</td>\n",
       "      <td>852</td>\n",
       "      <td>202</td>\n",
       "      <td>217</td>\n",
       "      <td>163</td>\n",
       "      <td>...</td>\n",
       "      <td>0</td>\n",
       "      <td>0</td>\n",
       "      <td>1</td>\n",
       "      <td>0</td>\n",
       "      <td>0</td>\n",
       "      <td>0</td>\n",
       "      <td>0</td>\n",
       "      <td>0</td>\n",
       "      <td>0</td>\n",
       "      <td>0</td>\n",
       "    </tr>\n",
       "    <tr>\n",
       "      <th>3</th>\n",
       "      <td>4000003</td>\n",
       "      <td>2926</td>\n",
       "      <td>119</td>\n",
       "      <td>6</td>\n",
       "      <td>158</td>\n",
       "      <td>134</td>\n",
       "      <td>2136</td>\n",
       "      <td>234</td>\n",
       "      <td>240</td>\n",
       "      <td>142</td>\n",
       "      <td>...</td>\n",
       "      <td>0</td>\n",
       "      <td>0</td>\n",
       "      <td>0</td>\n",
       "      <td>0</td>\n",
       "      <td>0</td>\n",
       "      <td>0</td>\n",
       "      <td>0</td>\n",
       "      <td>0</td>\n",
       "      <td>0</td>\n",
       "      <td>0</td>\n",
       "    </tr>\n",
       "    <tr>\n",
       "      <th>4</th>\n",
       "      <td>4000004</td>\n",
       "      <td>2690</td>\n",
       "      <td>10</td>\n",
       "      <td>4</td>\n",
       "      <td>38</td>\n",
       "      <td>108</td>\n",
       "      <td>3589</td>\n",
       "      <td>213</td>\n",
       "      <td>221</td>\n",
       "      <td>229</td>\n",
       "      <td>...</td>\n",
       "      <td>0</td>\n",
       "      <td>0</td>\n",
       "      <td>0</td>\n",
       "      <td>0</td>\n",
       "      <td>0</td>\n",
       "      <td>0</td>\n",
       "      <td>0</td>\n",
       "      <td>0</td>\n",
       "      <td>0</td>\n",
       "      <td>0</td>\n",
       "    </tr>\n",
       "  </tbody>\n",
       "</table>\n",
       "<p>5 rows × 55 columns</p>\n",
       "</div>"
      ],
      "text/plain": [
       "        Id  Elevation  Aspect  Slope  Horizontal_Distance_To_Hydrology  \\\n",
       "0  4000000       2763      78     20                               377   \n",
       "1  4000001       2826     153     11                               264   \n",
       "2  4000002       2948      57     19                                56   \n",
       "3  4000003       2926     119      6                               158   \n",
       "4  4000004       2690      10      4                                38   \n",
       "\n",
       "   Vertical_Distance_To_Hydrology  Horizontal_Distance_To_Roadways  \\\n",
       "0                              88                             3104   \n",
       "1                              39                              295   \n",
       "2                              44                              852   \n",
       "3                             134                             2136   \n",
       "4                             108                             3589   \n",
       "\n",
       "   Hillshade_9am  Hillshade_Noon  Hillshade_3pm  ...  Soil_Type31  \\\n",
       "0            218             213            195  ...            0   \n",
       "1            219             238            148  ...            0   \n",
       "2            202             217            163  ...            0   \n",
       "3            234             240            142  ...            0   \n",
       "4            213             221            229  ...            0   \n",
       "\n",
       "   Soil_Type32  Soil_Type33  Soil_Type34  Soil_Type35  Soil_Type36  \\\n",
       "0            0            0            0            0            0   \n",
       "1            0            0            0            0            0   \n",
       "2            0            1            0            0            0   \n",
       "3            0            0            0            0            0   \n",
       "4            0            0            0            0            0   \n",
       "\n",
       "   Soil_Type37  Soil_Type38  Soil_Type39  Soil_Type40  \n",
       "0            0            0            0            0  \n",
       "1            0            0            0            0  \n",
       "2            0            0            0            0  \n",
       "3            0            0            0            0  \n",
       "4            0            0            0            0  \n",
       "\n",
       "[5 rows x 55 columns]"
      ]
     },
     "execution_count": 2,
     "metadata": {},
     "output_type": "execute_result"
    }
   ],
   "source": [
    "test.head()"
   ]
  },
  {
   "cell_type": "code",
   "execution_count": 3,
   "id": "35f3d69a",
   "metadata": {
    "execution": {
     "iopub.execute_input": "2022-12-24T13:03:12.983254Z",
     "iopub.status.busy": "2022-12-24T13:03:12.982801Z",
     "iopub.status.idle": "2022-12-24T13:03:18.174101Z",
     "shell.execute_reply": "2022-12-24T13:03:18.173214Z"
    },
    "papermill": {
     "duration": 5.199673,
     "end_time": "2022-12-24T13:03:18.176618",
     "exception": false,
     "start_time": "2022-12-24T13:03:12.976945",
     "status": "completed"
    },
    "tags": []
   },
   "outputs": [
    {
     "data": {
      "text/html": [
       "<div>\n",
       "<style scoped>\n",
       "    .dataframe tbody tr th:only-of-type {\n",
       "        vertical-align: middle;\n",
       "    }\n",
       "\n",
       "    .dataframe tbody tr th {\n",
       "        vertical-align: top;\n",
       "    }\n",
       "\n",
       "    .dataframe thead th {\n",
       "        text-align: right;\n",
       "    }\n",
       "</style>\n",
       "<table border=\"1\" class=\"dataframe\">\n",
       "  <thead>\n",
       "    <tr style=\"text-align: right;\">\n",
       "      <th></th>\n",
       "      <th>Id</th>\n",
       "      <th>Elevation</th>\n",
       "      <th>Aspect</th>\n",
       "      <th>Slope</th>\n",
       "      <th>Horizontal_Distance_To_Hydrology</th>\n",
       "      <th>Vertical_Distance_To_Hydrology</th>\n",
       "      <th>Horizontal_Distance_To_Roadways</th>\n",
       "      <th>Hillshade_9am</th>\n",
       "      <th>Hillshade_Noon</th>\n",
       "      <th>Hillshade_3pm</th>\n",
       "      <th>...</th>\n",
       "      <th>Soil_Type32</th>\n",
       "      <th>Soil_Type33</th>\n",
       "      <th>Soil_Type34</th>\n",
       "      <th>Soil_Type35</th>\n",
       "      <th>Soil_Type36</th>\n",
       "      <th>Soil_Type37</th>\n",
       "      <th>Soil_Type38</th>\n",
       "      <th>Soil_Type39</th>\n",
       "      <th>Soil_Type40</th>\n",
       "      <th>Cover_Type</th>\n",
       "    </tr>\n",
       "  </thead>\n",
       "  <tbody>\n",
       "    <tr>\n",
       "      <th>count</th>\n",
       "      <td>4.000000e+06</td>\n",
       "      <td>4.000000e+06</td>\n",
       "      <td>4.000000e+06</td>\n",
       "      <td>4.000000e+06</td>\n",
       "      <td>4.000000e+06</td>\n",
       "      <td>4.000000e+06</td>\n",
       "      <td>4.000000e+06</td>\n",
       "      <td>4.000000e+06</td>\n",
       "      <td>4.000000e+06</td>\n",
       "      <td>4.000000e+06</td>\n",
       "      <td>...</td>\n",
       "      <td>4.000000e+06</td>\n",
       "      <td>4.000000e+06</td>\n",
       "      <td>4.000000e+06</td>\n",
       "      <td>4.000000e+06</td>\n",
       "      <td>4.000000e+06</td>\n",
       "      <td>4.000000e+06</td>\n",
       "      <td>4.000000e+06</td>\n",
       "      <td>4.000000e+06</td>\n",
       "      <td>4.000000e+06</td>\n",
       "      <td>4.000000e+06</td>\n",
       "    </tr>\n",
       "    <tr>\n",
       "      <th>mean</th>\n",
       "      <td>2.000000e+06</td>\n",
       "      <td>2.980192e+03</td>\n",
       "      <td>1.515857e+02</td>\n",
       "      <td>1.509754e+01</td>\n",
       "      <td>2.713154e+02</td>\n",
       "      <td>5.166262e+01</td>\n",
       "      <td>1.766642e+03</td>\n",
       "      <td>2.118375e+02</td>\n",
       "      <td>2.210614e+02</td>\n",
       "      <td>1.408109e+02</td>\n",
       "      <td>...</td>\n",
       "      <td>3.746200e-02</td>\n",
       "      <td>3.782075e-02</td>\n",
       "      <td>1.199500e-02</td>\n",
       "      <td>1.605350e-02</td>\n",
       "      <td>1.071275e-02</td>\n",
       "      <td>1.220750e-02</td>\n",
       "      <td>4.075150e-02</td>\n",
       "      <td>3.923925e-02</td>\n",
       "      <td>3.161850e-02</td>\n",
       "      <td>1.771335e+00</td>\n",
       "    </tr>\n",
       "    <tr>\n",
       "      <th>std</th>\n",
       "      <td>1.154701e+06</td>\n",
       "      <td>2.890482e+02</td>\n",
       "      <td>1.099611e+02</td>\n",
       "      <td>8.546731e+00</td>\n",
       "      <td>2.265497e+02</td>\n",
       "      <td>6.821597e+01</td>\n",
       "      <td>1.315610e+03</td>\n",
       "      <td>3.075996e+01</td>\n",
       "      <td>2.223134e+01</td>\n",
       "      <td>4.369864e+01</td>\n",
       "      <td>...</td>\n",
       "      <td>1.898910e-01</td>\n",
       "      <td>1.907625e-01</td>\n",
       "      <td>1.088629e-01</td>\n",
       "      <td>1.256813e-01</td>\n",
       "      <td>1.029465e-01</td>\n",
       "      <td>1.098111e-01</td>\n",
       "      <td>1.977140e-01</td>\n",
       "      <td>1.941637e-01</td>\n",
       "      <td>1.749822e-01</td>\n",
       "      <td>8.938060e-01</td>\n",
       "    </tr>\n",
       "    <tr>\n",
       "      <th>min</th>\n",
       "      <td>0.000000e+00</td>\n",
       "      <td>1.773000e+03</td>\n",
       "      <td>-3.300000e+01</td>\n",
       "      <td>-3.000000e+00</td>\n",
       "      <td>-9.200000e+01</td>\n",
       "      <td>-3.170000e+02</td>\n",
       "      <td>-2.870000e+02</td>\n",
       "      <td>-4.000000e+00</td>\n",
       "      <td>4.900000e+01</td>\n",
       "      <td>-5.300000e+01</td>\n",
       "      <td>...</td>\n",
       "      <td>0.000000e+00</td>\n",
       "      <td>0.000000e+00</td>\n",
       "      <td>0.000000e+00</td>\n",
       "      <td>0.000000e+00</td>\n",
       "      <td>0.000000e+00</td>\n",
       "      <td>0.000000e+00</td>\n",
       "      <td>0.000000e+00</td>\n",
       "      <td>0.000000e+00</td>\n",
       "      <td>0.000000e+00</td>\n",
       "      <td>1.000000e+00</td>\n",
       "    </tr>\n",
       "    <tr>\n",
       "      <th>25%</th>\n",
       "      <td>9.999998e+05</td>\n",
       "      <td>2.760000e+03</td>\n",
       "      <td>6.000000e+01</td>\n",
       "      <td>9.000000e+00</td>\n",
       "      <td>1.100000e+02</td>\n",
       "      <td>4.000000e+00</td>\n",
       "      <td>8.220000e+02</td>\n",
       "      <td>1.980000e+02</td>\n",
       "      <td>2.100000e+02</td>\n",
       "      <td>1.150000e+02</td>\n",
       "      <td>...</td>\n",
       "      <td>0.000000e+00</td>\n",
       "      <td>0.000000e+00</td>\n",
       "      <td>0.000000e+00</td>\n",
       "      <td>0.000000e+00</td>\n",
       "      <td>0.000000e+00</td>\n",
       "      <td>0.000000e+00</td>\n",
       "      <td>0.000000e+00</td>\n",
       "      <td>0.000000e+00</td>\n",
       "      <td>0.000000e+00</td>\n",
       "      <td>1.000000e+00</td>\n",
       "    </tr>\n",
       "    <tr>\n",
       "      <th>50%</th>\n",
       "      <td>2.000000e+06</td>\n",
       "      <td>2.966000e+03</td>\n",
       "      <td>1.230000e+02</td>\n",
       "      <td>1.400000e+01</td>\n",
       "      <td>2.130000e+02</td>\n",
       "      <td>3.100000e+01</td>\n",
       "      <td>1.436000e+03</td>\n",
       "      <td>2.180000e+02</td>\n",
       "      <td>2.240000e+02</td>\n",
       "      <td>1.420000e+02</td>\n",
       "      <td>...</td>\n",
       "      <td>0.000000e+00</td>\n",
       "      <td>0.000000e+00</td>\n",
       "      <td>0.000000e+00</td>\n",
       "      <td>0.000000e+00</td>\n",
       "      <td>0.000000e+00</td>\n",
       "      <td>0.000000e+00</td>\n",
       "      <td>0.000000e+00</td>\n",
       "      <td>0.000000e+00</td>\n",
       "      <td>0.000000e+00</td>\n",
       "      <td>2.000000e+00</td>\n",
       "    </tr>\n",
       "    <tr>\n",
       "      <th>75%</th>\n",
       "      <td>2.999999e+06</td>\n",
       "      <td>3.217000e+03</td>\n",
       "      <td>2.470000e+02</td>\n",
       "      <td>2.000000e+01</td>\n",
       "      <td>3.610000e+02</td>\n",
       "      <td>7.800000e+01</td>\n",
       "      <td>2.365000e+03</td>\n",
       "      <td>2.330000e+02</td>\n",
       "      <td>2.370000e+02</td>\n",
       "      <td>1.690000e+02</td>\n",
       "      <td>...</td>\n",
       "      <td>0.000000e+00</td>\n",
       "      <td>0.000000e+00</td>\n",
       "      <td>0.000000e+00</td>\n",
       "      <td>0.000000e+00</td>\n",
       "      <td>0.000000e+00</td>\n",
       "      <td>0.000000e+00</td>\n",
       "      <td>0.000000e+00</td>\n",
       "      <td>0.000000e+00</td>\n",
       "      <td>0.000000e+00</td>\n",
       "      <td>2.000000e+00</td>\n",
       "    </tr>\n",
       "    <tr>\n",
       "      <th>max</th>\n",
       "      <td>3.999999e+06</td>\n",
       "      <td>4.383000e+03</td>\n",
       "      <td>4.070000e+02</td>\n",
       "      <td>6.400000e+01</td>\n",
       "      <td>1.602000e+03</td>\n",
       "      <td>6.470000e+02</td>\n",
       "      <td>7.666000e+03</td>\n",
       "      <td>3.010000e+02</td>\n",
       "      <td>2.790000e+02</td>\n",
       "      <td>2.720000e+02</td>\n",
       "      <td>...</td>\n",
       "      <td>1.000000e+00</td>\n",
       "      <td>1.000000e+00</td>\n",
       "      <td>1.000000e+00</td>\n",
       "      <td>1.000000e+00</td>\n",
       "      <td>1.000000e+00</td>\n",
       "      <td>1.000000e+00</td>\n",
       "      <td>1.000000e+00</td>\n",
       "      <td>1.000000e+00</td>\n",
       "      <td>1.000000e+00</td>\n",
       "      <td>7.000000e+00</td>\n",
       "    </tr>\n",
       "  </tbody>\n",
       "</table>\n",
       "<p>8 rows × 56 columns</p>\n",
       "</div>"
      ],
      "text/plain": [
       "                 Id     Elevation        Aspect         Slope  \\\n",
       "count  4.000000e+06  4.000000e+06  4.000000e+06  4.000000e+06   \n",
       "mean   2.000000e+06  2.980192e+03  1.515857e+02  1.509754e+01   \n",
       "std    1.154701e+06  2.890482e+02  1.099611e+02  8.546731e+00   \n",
       "min    0.000000e+00  1.773000e+03 -3.300000e+01 -3.000000e+00   \n",
       "25%    9.999998e+05  2.760000e+03  6.000000e+01  9.000000e+00   \n",
       "50%    2.000000e+06  2.966000e+03  1.230000e+02  1.400000e+01   \n",
       "75%    2.999999e+06  3.217000e+03  2.470000e+02  2.000000e+01   \n",
       "max    3.999999e+06  4.383000e+03  4.070000e+02  6.400000e+01   \n",
       "\n",
       "       Horizontal_Distance_To_Hydrology  Vertical_Distance_To_Hydrology  \\\n",
       "count                      4.000000e+06                    4.000000e+06   \n",
       "mean                       2.713154e+02                    5.166262e+01   \n",
       "std                        2.265497e+02                    6.821597e+01   \n",
       "min                       -9.200000e+01                   -3.170000e+02   \n",
       "25%                        1.100000e+02                    4.000000e+00   \n",
       "50%                        2.130000e+02                    3.100000e+01   \n",
       "75%                        3.610000e+02                    7.800000e+01   \n",
       "max                        1.602000e+03                    6.470000e+02   \n",
       "\n",
       "       Horizontal_Distance_To_Roadways  Hillshade_9am  Hillshade_Noon  \\\n",
       "count                     4.000000e+06   4.000000e+06    4.000000e+06   \n",
       "mean                      1.766642e+03   2.118375e+02    2.210614e+02   \n",
       "std                       1.315610e+03   3.075996e+01    2.223134e+01   \n",
       "min                      -2.870000e+02  -4.000000e+00    4.900000e+01   \n",
       "25%                       8.220000e+02   1.980000e+02    2.100000e+02   \n",
       "50%                       1.436000e+03   2.180000e+02    2.240000e+02   \n",
       "75%                       2.365000e+03   2.330000e+02    2.370000e+02   \n",
       "max                       7.666000e+03   3.010000e+02    2.790000e+02   \n",
       "\n",
       "       Hillshade_3pm  ...   Soil_Type32   Soil_Type33   Soil_Type34  \\\n",
       "count   4.000000e+06  ...  4.000000e+06  4.000000e+06  4.000000e+06   \n",
       "mean    1.408109e+02  ...  3.746200e-02  3.782075e-02  1.199500e-02   \n",
       "std     4.369864e+01  ...  1.898910e-01  1.907625e-01  1.088629e-01   \n",
       "min    -5.300000e+01  ...  0.000000e+00  0.000000e+00  0.000000e+00   \n",
       "25%     1.150000e+02  ...  0.000000e+00  0.000000e+00  0.000000e+00   \n",
       "50%     1.420000e+02  ...  0.000000e+00  0.000000e+00  0.000000e+00   \n",
       "75%     1.690000e+02  ...  0.000000e+00  0.000000e+00  0.000000e+00   \n",
       "max     2.720000e+02  ...  1.000000e+00  1.000000e+00  1.000000e+00   \n",
       "\n",
       "        Soil_Type35   Soil_Type36   Soil_Type37   Soil_Type38   Soil_Type39  \\\n",
       "count  4.000000e+06  4.000000e+06  4.000000e+06  4.000000e+06  4.000000e+06   \n",
       "mean   1.605350e-02  1.071275e-02  1.220750e-02  4.075150e-02  3.923925e-02   \n",
       "std    1.256813e-01  1.029465e-01  1.098111e-01  1.977140e-01  1.941637e-01   \n",
       "min    0.000000e+00  0.000000e+00  0.000000e+00  0.000000e+00  0.000000e+00   \n",
       "25%    0.000000e+00  0.000000e+00  0.000000e+00  0.000000e+00  0.000000e+00   \n",
       "50%    0.000000e+00  0.000000e+00  0.000000e+00  0.000000e+00  0.000000e+00   \n",
       "75%    0.000000e+00  0.000000e+00  0.000000e+00  0.000000e+00  0.000000e+00   \n",
       "max    1.000000e+00  1.000000e+00  1.000000e+00  1.000000e+00  1.000000e+00   \n",
       "\n",
       "        Soil_Type40    Cover_Type  \n",
       "count  4.000000e+06  4.000000e+06  \n",
       "mean   3.161850e-02  1.771335e+00  \n",
       "std    1.749822e-01  8.938060e-01  \n",
       "min    0.000000e+00  1.000000e+00  \n",
       "25%    0.000000e+00  1.000000e+00  \n",
       "50%    0.000000e+00  2.000000e+00  \n",
       "75%    0.000000e+00  2.000000e+00  \n",
       "max    1.000000e+00  7.000000e+00  \n",
       "\n",
       "[8 rows x 56 columns]"
      ]
     },
     "execution_count": 3,
     "metadata": {},
     "output_type": "execute_result"
    }
   ],
   "source": [
    "train.describe()"
   ]
  },
  {
   "cell_type": "code",
   "execution_count": 4,
   "id": "8f6336a2",
   "metadata": {
    "execution": {
     "iopub.execute_input": "2022-12-24T13:03:18.191439Z",
     "iopub.status.busy": "2022-12-24T13:03:18.191121Z",
     "iopub.status.idle": "2022-12-24T13:03:18.217210Z",
     "shell.execute_reply": "2022-12-24T13:03:18.215814Z"
    },
    "papermill": {
     "duration": 0.035557,
     "end_time": "2022-12-24T13:03:18.219521",
     "exception": false,
     "start_time": "2022-12-24T13:03:18.183964",
     "status": "completed"
    },
    "tags": []
   },
   "outputs": [
    {
     "name": "stdout",
     "output_type": "stream",
     "text": [
      "[1 2 3 6 7 4 5]\n"
     ]
    }
   ],
   "source": [
    "print(train[\"Cover_Type\"].unique())"
   ]
  },
  {
   "cell_type": "markdown",
   "id": "7d939548",
   "metadata": {
    "papermill": {
     "duration": 0.005289,
     "end_time": "2022-12-24T13:03:18.230680",
     "exception": false,
     "start_time": "2022-12-24T13:03:18.225391",
     "status": "completed"
    },
    "tags": []
   },
   "source": [
    "### **Basic data prep work<a name = \"prep\"></a>**\n",
    "\n"
   ]
  },
  {
   "cell_type": "code",
   "execution_count": 5,
   "id": "53e16b05",
   "metadata": {
    "execution": {
     "iopub.execute_input": "2022-12-24T13:03:18.243443Z",
     "iopub.status.busy": "2022-12-24T13:03:18.242888Z",
     "iopub.status.idle": "2022-12-24T13:03:19.833882Z",
     "shell.execute_reply": "2022-12-24T13:03:19.832857Z"
    },
    "papermill": {
     "duration": 1.599706,
     "end_time": "2022-12-24T13:03:19.836200",
     "exception": false,
     "start_time": "2022-12-24T13:03:18.236494",
     "status": "completed"
    },
    "tags": []
   },
   "outputs": [
    {
     "data": {
      "text/html": [
       "<div>\n",
       "<style scoped>\n",
       "    .dataframe tbody tr th:only-of-type {\n",
       "        vertical-align: middle;\n",
       "    }\n",
       "\n",
       "    .dataframe tbody tr th {\n",
       "        vertical-align: top;\n",
       "    }\n",
       "\n",
       "    .dataframe thead th {\n",
       "        text-align: right;\n",
       "    }\n",
       "</style>\n",
       "<table border=\"1\" class=\"dataframe\">\n",
       "  <thead>\n",
       "    <tr style=\"text-align: right;\">\n",
       "      <th></th>\n",
       "      <th>Elevation</th>\n",
       "      <th>Aspect</th>\n",
       "      <th>Slope</th>\n",
       "      <th>Horizontal_Distance_To_Hydrology</th>\n",
       "      <th>Vertical_Distance_To_Hydrology</th>\n",
       "      <th>Horizontal_Distance_To_Roadways</th>\n",
       "      <th>Hillshade_9am</th>\n",
       "      <th>Hillshade_Noon</th>\n",
       "      <th>Hillshade_3pm</th>\n",
       "      <th>Horizontal_Distance_To_Fire_Points</th>\n",
       "      <th>...</th>\n",
       "      <th>Soil_Type32</th>\n",
       "      <th>Soil_Type33</th>\n",
       "      <th>Soil_Type34</th>\n",
       "      <th>Soil_Type35</th>\n",
       "      <th>Soil_Type36</th>\n",
       "      <th>Soil_Type37</th>\n",
       "      <th>Soil_Type38</th>\n",
       "      <th>Soil_Type39</th>\n",
       "      <th>Soil_Type40</th>\n",
       "      <th>Cover_Type</th>\n",
       "    </tr>\n",
       "  </thead>\n",
       "  <tbody>\n",
       "    <tr>\n",
       "      <th>0</th>\n",
       "      <td>3189</td>\n",
       "      <td>40</td>\n",
       "      <td>8</td>\n",
       "      <td>30</td>\n",
       "      <td>13</td>\n",
       "      <td>3270</td>\n",
       "      <td>206</td>\n",
       "      <td>234</td>\n",
       "      <td>193</td>\n",
       "      <td>4873</td>\n",
       "      <td>...</td>\n",
       "      <td>0</td>\n",
       "      <td>0</td>\n",
       "      <td>0</td>\n",
       "      <td>0</td>\n",
       "      <td>0</td>\n",
       "      <td>0</td>\n",
       "      <td>0</td>\n",
       "      <td>0</td>\n",
       "      <td>0</td>\n",
       "      <td>1.0</td>\n",
       "    </tr>\n",
       "    <tr>\n",
       "      <th>1</th>\n",
       "      <td>3026</td>\n",
       "      <td>182</td>\n",
       "      <td>5</td>\n",
       "      <td>280</td>\n",
       "      <td>29</td>\n",
       "      <td>3270</td>\n",
       "      <td>233</td>\n",
       "      <td>240</td>\n",
       "      <td>106</td>\n",
       "      <td>5423</td>\n",
       "      <td>...</td>\n",
       "      <td>0</td>\n",
       "      <td>0</td>\n",
       "      <td>0</td>\n",
       "      <td>0</td>\n",
       "      <td>0</td>\n",
       "      <td>0</td>\n",
       "      <td>0</td>\n",
       "      <td>0</td>\n",
       "      <td>0</td>\n",
       "      <td>2.0</td>\n",
       "    </tr>\n",
       "    <tr>\n",
       "      <th>2</th>\n",
       "      <td>3106</td>\n",
       "      <td>13</td>\n",
       "      <td>7</td>\n",
       "      <td>351</td>\n",
       "      <td>37</td>\n",
       "      <td>2914</td>\n",
       "      <td>208</td>\n",
       "      <td>234</td>\n",
       "      <td>137</td>\n",
       "      <td>5269</td>\n",
       "      <td>...</td>\n",
       "      <td>0</td>\n",
       "      <td>0</td>\n",
       "      <td>0</td>\n",
       "      <td>0</td>\n",
       "      <td>0</td>\n",
       "      <td>0</td>\n",
       "      <td>0</td>\n",
       "      <td>0</td>\n",
       "      <td>0</td>\n",
       "      <td>1.0</td>\n",
       "    </tr>\n",
       "    <tr>\n",
       "      <th>3</th>\n",
       "      <td>3022</td>\n",
       "      <td>276</td>\n",
       "      <td>13</td>\n",
       "      <td>192</td>\n",
       "      <td>16</td>\n",
       "      <td>3034</td>\n",
       "      <td>207</td>\n",
       "      <td>238</td>\n",
       "      <td>156</td>\n",
       "      <td>2866</td>\n",
       "      <td>...</td>\n",
       "      <td>0</td>\n",
       "      <td>0</td>\n",
       "      <td>0</td>\n",
       "      <td>0</td>\n",
       "      <td>0</td>\n",
       "      <td>0</td>\n",
       "      <td>0</td>\n",
       "      <td>0</td>\n",
       "      <td>0</td>\n",
       "      <td>2.0</td>\n",
       "    </tr>\n",
       "    <tr>\n",
       "      <th>4</th>\n",
       "      <td>2906</td>\n",
       "      <td>186</td>\n",
       "      <td>13</td>\n",
       "      <td>266</td>\n",
       "      <td>22</td>\n",
       "      <td>2916</td>\n",
       "      <td>231</td>\n",
       "      <td>231</td>\n",
       "      <td>154</td>\n",
       "      <td>2642</td>\n",
       "      <td>...</td>\n",
       "      <td>0</td>\n",
       "      <td>0</td>\n",
       "      <td>0</td>\n",
       "      <td>0</td>\n",
       "      <td>0</td>\n",
       "      <td>0</td>\n",
       "      <td>0</td>\n",
       "      <td>0</td>\n",
       "      <td>0</td>\n",
       "      <td>2.0</td>\n",
       "    </tr>\n",
       "  </tbody>\n",
       "</table>\n",
       "<p>5 rows × 55 columns</p>\n",
       "</div>"
      ],
      "text/plain": [
       "   Elevation  Aspect  Slope  Horizontal_Distance_To_Hydrology  \\\n",
       "0       3189      40      8                                30   \n",
       "1       3026     182      5                               280   \n",
       "2       3106      13      7                               351   \n",
       "3       3022     276     13                               192   \n",
       "4       2906     186     13                               266   \n",
       "\n",
       "   Vertical_Distance_To_Hydrology  Horizontal_Distance_To_Roadways  \\\n",
       "0                              13                             3270   \n",
       "1                              29                             3270   \n",
       "2                              37                             2914   \n",
       "3                              16                             3034   \n",
       "4                              22                             2916   \n",
       "\n",
       "   Hillshade_9am  Hillshade_Noon  Hillshade_3pm  \\\n",
       "0            206             234            193   \n",
       "1            233             240            106   \n",
       "2            208             234            137   \n",
       "3            207             238            156   \n",
       "4            231             231            154   \n",
       "\n",
       "   Horizontal_Distance_To_Fire_Points  ...  Soil_Type32  Soil_Type33  \\\n",
       "0                                4873  ...            0            0   \n",
       "1                                5423  ...            0            0   \n",
       "2                                5269  ...            0            0   \n",
       "3                                2866  ...            0            0   \n",
       "4                                2642  ...            0            0   \n",
       "\n",
       "   Soil_Type34  Soil_Type35  Soil_Type36  Soil_Type37  Soil_Type38  \\\n",
       "0            0            0            0            0            0   \n",
       "1            0            0            0            0            0   \n",
       "2            0            0            0            0            0   \n",
       "3            0            0            0            0            0   \n",
       "4            0            0            0            0            0   \n",
       "\n",
       "   Soil_Type39  Soil_Type40  Cover_Type  \n",
       "0            0            0         1.0  \n",
       "1            0            0         2.0  \n",
       "2            0            0         1.0  \n",
       "3            0            0         2.0  \n",
       "4            0            0         2.0  \n",
       "\n",
       "[5 rows x 55 columns]"
      ]
     },
     "execution_count": 5,
     "metadata": {},
     "output_type": "execute_result"
    }
   ],
   "source": [
    "ds = pd.concat([train,test])\n",
    "ds.drop([\"Id\"],axis=1,inplace = True)\n",
    "ds.head()"
   ]
  },
  {
   "cell_type": "markdown",
   "id": "e338dbee",
   "metadata": {
    "papermill": {
     "duration": 0.006583,
     "end_time": "2022-12-24T13:03:19.849005",
     "exception": false,
     "start_time": "2022-12-24T13:03:19.842422",
     "status": "completed"
    },
    "tags": []
   },
   "source": [
    "### **Data visualisation and fixing<a name = \"visual\"></a>**"
   ]
  },
  {
   "cell_type": "code",
   "execution_count": 6,
   "id": "f42eba6c",
   "metadata": {
    "execution": {
     "iopub.execute_input": "2022-12-24T13:03:19.862555Z",
     "iopub.status.busy": "2022-12-24T13:03:19.861673Z",
     "iopub.status.idle": "2022-12-24T13:03:20.655836Z",
     "shell.execute_reply": "2022-12-24T13:03:20.654907Z"
    },
    "papermill": {
     "duration": 0.802928,
     "end_time": "2022-12-24T13:03:20.657965",
     "exception": false,
     "start_time": "2022-12-24T13:03:19.855037",
     "status": "completed"
    },
    "tags": []
   },
   "outputs": [
    {
     "data": {
      "text/plain": [
       "<AxesSubplot:xlabel='Cover_Type', ylabel='count'>"
      ]
     },
     "execution_count": 6,
     "metadata": {},
     "output_type": "execute_result"
    },
    {
     "data": {
      "image/png": "[encoded data removed]",
      "text/plain": [
       "<Figure size 432x288 with 1 Axes>"
      ]
     },
     "metadata": {
      "needs_background": "light"
     },
     "output_type": "display_data"
    }
   ],
   "source": [
    "sns.countplot(data=ds,x=\"Cover_Type\")"
   ]
  },
  {
   "cell_type": "code",
   "execution_count": 7,
   "id": "d8bcc05d",
   "metadata": {
    "execution": {
     "iopub.execute_input": "2022-12-24T13:03:20.673405Z",
     "iopub.status.busy": "2022-12-24T13:03:20.673020Z",
     "iopub.status.idle": "2022-12-24T13:03:20.737556Z",
     "shell.execute_reply": "2022-12-24T13:03:20.736503Z"
    },
    "papermill": {
     "duration": 0.076999,
     "end_time": "2022-12-24T13:03:20.741234",
     "exception": false,
     "start_time": "2022-12-24T13:03:20.664235",
     "status": "completed"
    },
    "tags": []
   },
   "outputs": [
    {
     "name": "stdout",
     "output_type": "stream",
     "text": [
      "2.0    2262087\n",
      "1.0    1468136\n",
      "3.0     195712\n",
      "7.0      62261\n",
      "6.0      11426\n",
      "4.0        377\n",
      "5.0          1\n",
      "Name: Cover_Type, dtype: int64\n"
     ]
    }
   ],
   "source": [
    "print(ds[\"Cover_Type\"].value_counts())"
   ]
  },
  {
   "cell_type": "code",
   "execution_count": 8,
   "id": "23a9eafd",
   "metadata": {
    "execution": {
     "iopub.execute_input": "2022-12-24T13:03:20.755803Z",
     "iopub.status.busy": "2022-12-24T13:03:20.755523Z",
     "iopub.status.idle": "2022-12-24T13:03:21.805843Z",
     "shell.execute_reply": "2022-12-24T13:03:21.804850Z"
    },
    "papermill": {
     "duration": 1.059525,
     "end_time": "2022-12-24T13:03:21.808049",
     "exception": false,
     "start_time": "2022-12-24T13:03:20.748524",
     "status": "completed"
    },
    "tags": []
   },
   "outputs": [
    {
     "data": {
      "text/plain": [
       "<AxesSubplot:>"
      ]
     },
     "execution_count": 8,
     "metadata": {},
     "output_type": "execute_result"
    },
    {
     "data": {
      "image/png": "[encoded data removed]",
      "text/plain": [
       "<Figure size 432x288 with 2 Axes>"
      ]
     },
     "metadata": {
      "needs_background": "light"
     },
     "output_type": "display_data"
    }
   ],
   "source": [
    "data_analysed = ds[[\"Elevation\",\"Horizontal_Distance_To_Hydrology\",\"Hillshade_9am\",\"Horizontal_Distance_To_Fire_Points\",\"Wilderness_Area3\",\"Cover_Type\"]]\n",
    "sns.heatmap(data_analysed.corr(), annot=True, fmt='.2f')"
   ]
  },
  {
   "cell_type": "code",
   "execution_count": 9,
   "id": "5c74ec9f",
   "metadata": {
    "execution": {
     "iopub.execute_input": "2022-12-24T13:03:21.823242Z",
     "iopub.status.busy": "2022-12-24T13:03:21.822951Z",
     "iopub.status.idle": "2022-12-24T13:03:23.520010Z",
     "shell.execute_reply": "2022-12-24T13:03:23.518821Z"
    },
    "papermill": {
     "duration": 1.70898,
     "end_time": "2022-12-24T13:03:23.524211",
     "exception": false,
     "start_time": "2022-12-24T13:03:21.815231",
     "status": "completed"
    },
    "tags": []
   },
   "outputs": [
    {
     "name": "stdout",
     "output_type": "stream",
     "text": [
      "['Wilderness_Area1', 'Wilderness_Area2', 'Wilderness_Area3', 'Wilderness_Area4', 'Soil_Type1', 'Soil_Type2', 'Soil_Type3', 'Soil_Type4', 'Soil_Type5', 'Soil_Type6', 'Soil_Type7', 'Soil_Type8', 'Soil_Type9', 'Soil_Type10', 'Soil_Type11', 'Soil_Type12', 'Soil_Type13', 'Soil_Type14', 'Soil_Type15', 'Soil_Type16', 'Soil_Type17', 'Soil_Type18', 'Soil_Type19', 'Soil_Type20', 'Soil_Type21', 'Soil_Type22', 'Soil_Type23', 'Soil_Type24', 'Soil_Type25', 'Soil_Type26', 'Soil_Type27', 'Soil_Type28', 'Soil_Type29', 'Soil_Type30', 'Soil_Type31', 'Soil_Type32', 'Soil_Type33', 'Soil_Type34', 'Soil_Type35', 'Soil_Type36', 'Soil_Type37', 'Soil_Type38', 'Soil_Type39', 'Soil_Type40', 'Cover_Type']\n"
     ]
    }
   ],
   "source": [
    "cat_features = [col for col in ds.columns if ds[col].nunique() < 25]\n",
    "print(cat_features)"
   ]
  },
  {
   "cell_type": "code",
   "execution_count": 10,
   "id": "207285b7",
   "metadata": {
    "execution": {
     "iopub.execute_input": "2022-12-24T13:03:23.547495Z",
     "iopub.status.busy": "2022-12-24T13:03:23.547058Z",
     "iopub.status.idle": "2022-12-24T13:03:25.163811Z",
     "shell.execute_reply": "2022-12-24T13:03:25.162784Z"
    },
    "papermill": {
     "duration": 1.630798,
     "end_time": "2022-12-24T13:03:25.166073",
     "exception": false,
     "start_time": "2022-12-24T13:03:23.535275",
     "status": "completed"
    },
    "tags": []
   },
   "outputs": [
    {
     "name": "stdout",
     "output_type": "stream",
     "text": [
      "The total unique values in Elevation are 2548\n",
      "The total unique values in Aspect are 440\n",
      "The total unique values in Slope are 68\n",
      "The total unique values in Horizontal_Distance_To_Hydrology are 1645\n",
      "The total unique values in Vertical_Distance_To_Hydrology are 922\n",
      "The total unique values in Horizontal_Distance_To_Roadways are 7786\n",
      "The total unique values in Hillshade_9am are 302\n",
      "The total unique values in Hillshade_Noon are 223\n",
      "The total unique values in Hillshade_3pm are 326\n",
      "The total unique values in Horizontal_Distance_To_Fire_Points are 8148\n",
      "The total unique values in Wilderness_Area1 are 2\n",
      "The total unique values in Wilderness_Area2 are 2\n",
      "The total unique values in Wilderness_Area3 are 2\n",
      "The total unique values in Wilderness_Area4 are 2\n",
      "The total unique values in Soil_Type1 are 2\n",
      "The total unique values in Soil_Type2 are 2\n",
      "The total unique values in Soil_Type3 are 2\n",
      "The total unique values in Soil_Type4 are 2\n",
      "The total unique values in Soil_Type5 are 2\n",
      "The total unique values in Soil_Type6 are 2\n",
      "The total unique values in Soil_Type7 are 1\n",
      "The total unique values in Soil_Type8 are 2\n",
      "The total unique values in Soil_Type9 are 2\n",
      "The total unique values in Soil_Type10 are 2\n",
      "The total unique values in Soil_Type11 are 2\n",
      "The total unique values in Soil_Type12 are 2\n",
      "The total unique values in Soil_Type13 are 2\n",
      "The total unique values in Soil_Type14 are 2\n",
      "The total unique values in Soil_Type15 are 1\n",
      "The total unique values in Soil_Type16 are 2\n",
      "The total unique values in Soil_Type17 are 2\n",
      "The total unique values in Soil_Type18 are 2\n",
      "The total unique values in Soil_Type19 are 2\n",
      "The total unique values in Soil_Type20 are 2\n",
      "The total unique values in Soil_Type21 are 2\n",
      "The total unique values in Soil_Type22 are 2\n",
      "The total unique values in Soil_Type23 are 2\n",
      "The total unique values in Soil_Type24 are 2\n",
      "The total unique values in Soil_Type25 are 2\n",
      "The total unique values in Soil_Type26 are 2\n",
      "The total unique values in Soil_Type27 are 2\n",
      "The total unique values in Soil_Type28 are 2\n",
      "The total unique values in Soil_Type29 are 2\n",
      "The total unique values in Soil_Type30 are 2\n",
      "The total unique values in Soil_Type31 are 2\n",
      "The total unique values in Soil_Type32 are 2\n",
      "The total unique values in Soil_Type33 are 2\n",
      "The total unique values in Soil_Type34 are 2\n",
      "The total unique values in Soil_Type35 are 2\n",
      "The total unique values in Soil_Type36 are 2\n",
      "The total unique values in Soil_Type37 are 2\n",
      "The total unique values in Soil_Type38 are 2\n",
      "The total unique values in Soil_Type39 are 2\n",
      "The total unique values in Soil_Type40 are 2\n",
      "The total unique values in Cover_Type are 8\n"
     ]
    }
   ],
   "source": [
    "for col in ds.columns:\n",
    "    print(f\"The total unique values in {col} are {len(ds[col].unique())}\")"
   ]
  },
  {
   "cell_type": "markdown",
   "id": "92e608c1",
   "metadata": {
    "papermill": {
     "duration": 0.00741,
     "end_time": "2022-12-24T13:03:25.181423",
     "exception": false,
     "start_time": "2022-12-24T13:03:25.174013",
     "status": "completed"
    },
    "tags": []
   },
   "source": [
    "What we learned from data representation:\n",
    "\n",
    "- There isn't an equal distribution for cover types.\n",
    "- Most variables do not have any important correlation with each other, excluding cover type.\n",
    "- The other data values are all continuous, and thus there is no need for one hot encoding for categorical values as the categorical values are already dealt with properly.\n",
    "- There is only 1 value with cover_type 5 out of millions of data values. Thus to avoid confusing the model, we remove this cover_type entirely.\n",
    "- Soil_Type7 and Soil_Type15 are all 0, so they are completely useless."
   ]
  },
  {
   "cell_type": "markdown",
   "id": "316eae64",
   "metadata": {
    "papermill": {
     "duration": 0.007225,
     "end_time": "2022-12-24T13:03:25.196108",
     "exception": false,
     "start_time": "2022-12-24T13:03:25.188883",
     "status": "completed"
    },
    "tags": []
   },
   "source": []
  },
  {
   "cell_type": "code",
   "execution_count": 11,
   "id": "e5d95880",
   "metadata": {
    "execution": {
     "iopub.execute_input": "2022-12-24T13:03:25.212642Z",
     "iopub.status.busy": "2022-12-24T13:03:25.212338Z",
     "iopub.status.idle": "2022-12-24T13:03:26.581951Z",
     "shell.execute_reply": "2022-12-24T13:03:26.579962Z"
    },
    "papermill": {
     "duration": 1.381157,
     "end_time": "2022-12-24T13:03:26.584772",
     "exception": false,
     "start_time": "2022-12-24T13:03:25.203615",
     "status": "completed"
    },
    "tags": []
   },
   "outputs": [
    {
     "name": "stdout",
     "output_type": "stream",
     "text": [
      "2.0    2262087\n",
      "1.0    1468136\n",
      "3.0     195712\n",
      "7.0      62261\n",
      "6.0      11426\n",
      "4.0        377\n",
      "Name: Cover_Type, dtype: int64\n"
     ]
    }
   ],
   "source": [
    "ds = ds[ds[\"Cover_Type\"] != 5]\n",
    "print(ds[\"Cover_Type\"].value_counts())"
   ]
  },
  {
   "cell_type": "code",
   "execution_count": 12,
   "id": "abaa46f5",
   "metadata": {
    "execution": {
     "iopub.execute_input": "2022-12-24T13:03:26.603495Z",
     "iopub.status.busy": "2022-12-24T13:03:26.602658Z",
     "iopub.status.idle": "2022-12-24T13:03:27.777859Z",
     "shell.execute_reply": "2022-12-24T13:03:27.776881Z"
    },
    "papermill": {
     "duration": 1.186666,
     "end_time": "2022-12-24T13:03:27.780144",
     "exception": false,
     "start_time": "2022-12-24T13:03:26.593478",
     "status": "completed"
    },
    "tags": []
   },
   "outputs": [],
   "source": [
    "ds.drop([ 'Soil_Type7', 'Soil_Type15'], axis=1,inplace = True)"
   ]
  },
  {
   "cell_type": "markdown",
   "id": "6fafaed8",
   "metadata": {
    "papermill": {
     "duration": 0.007452,
     "end_time": "2022-12-24T13:03:27.795635",
     "exception": false,
     "start_time": "2022-12-24T13:03:27.788183",
     "status": "completed"
    },
    "tags": []
   },
   "source": [
    "## **Time saving<a name=\"time\">**\n",
    "    \n",
    "Up to this point, I realised that this notebook were taking way too long with the gargantuan size of the data and thus looked to other notebooks for solutions to this issue.I found this solution from an amazing notebook and used it in my own.\n",
    "    \n",
    "<a href= \"https://www.kaggle.com/code/leeyj0511/tps-dec-end-to-end-ml-project-for-beginner#3.-Explore-the-Data\" >Original creator's notebook</a>\n",
    "    \n",
    "Note: The code from the notebook also seems to be copied from another user, so credit should also be given to that user :)"
   ]
  },
  {
   "cell_type": "code",
   "execution_count": 13,
   "id": "64772130",
   "metadata": {
    "execution": {
     "iopub.execute_input": "2022-12-24T13:03:27.813379Z",
     "iopub.status.busy": "2022-12-24T13:03:27.811714Z",
     "iopub.status.idle": "2022-12-24T13:03:48.187123Z",
     "shell.execute_reply": "2022-12-24T13:03:48.186167Z"
    },
    "papermill": {
     "duration": 20.386628,
     "end_time": "2022-12-24T13:03:48.189791",
     "exception": false,
     "start_time": "2022-12-24T13:03:27.803163",
     "status": "completed"
    },
    "tags": []
   },
   "outputs": [
    {
     "name": "stdout",
     "output_type": "stream",
     "text": [
      "Mem. usage decreased to 348.09 Mb (83.1% reduction)\n",
      "Time: 20.36 seconds\n"
     ]
    }
   ],
   "source": [
    "def reduce_mem_usage(df, verbose=True):\n",
    "    numerics = ['int16', 'int32', 'int64', 'float16', 'float32', 'float64']\n",
    "    start_mem = df.memory_usage().sum() / 1024**2    \n",
    "    for col in df.columns:\n",
    "        col_type = df[col].dtypes\n",
    "        if col_type in numerics:\n",
    "            c_min = df[col].min()\n",
    "            c_max = df[col].max()\n",
    "            if str(col_type)[:3] == 'int':\n",
    "                if c_min > np.iinfo(np.int8).min and c_max < np.iinfo(np.int8).max:\n",
    "                    df[col] = df[col].astype(np.int8)\n",
    "                elif c_min > np.iinfo(np.int16).min and c_max < np.iinfo(np.int16).max:\n",
    "                    df[col] = df[col].astype(np.int16)\n",
    "                elif c_min > np.iinfo(np.int32).min and c_max < np.iinfo(np.int32).max:\n",
    "                    df[col] = df[col].astype(np.int32)\n",
    "                elif c_min > np.iinfo(np.int64).min and c_max < np.iinfo(np.int64).max:\n",
    "                    df[col] = df[col].astype(np.int64)  \n",
    "            else:\n",
    "                if c_min > np.finfo(np.float32).min and c_max < np.finfo(np.float32).max:\n",
    "                    df[col] = df[col].astype(np.float32)\n",
    "                else:\n",
    "                    df[col] = df[col].astype(np.float64)    \n",
    "    end_mem = df.memory_usage().sum() / 1024**2\n",
    "    if verbose: print('Mem. usage decreased to {:5.2f} Mb ({:.1f}% reduction)'.format(end_mem, 100 * (start_mem - end_mem) / start_mem))\n",
    "    return df\n",
    "\n",
    "start = time.time()\n",
    "\n",
    "ds=reduce_mem_usage(ds)\n",
    "\n",
    "stop = time.time()\n",
    "print(f\"Time: {round((stop - start), 3)} seconds\")"
   ]
  },
  {
   "cell_type": "markdown",
   "id": "fa87c17d",
   "metadata": {
    "papermill": {
     "duration": 0.010745,
     "end_time": "2022-12-24T13:03:48.212500",
     "exception": false,
     "start_time": "2022-12-24T13:03:48.201755",
     "status": "completed"
    },
    "tags": []
   },
   "source": [
    "## **Splitting data into relevant values.<a name=\"split\">**\n"
   ]
  },
  {
   "cell_type": "code",
   "execution_count": 14,
   "id": "ae3bb7bc",
   "metadata": {
    "execution": {
     "iopub.execute_input": "2022-12-24T13:03:48.235821Z",
     "iopub.status.busy": "2022-12-24T13:03:48.235384Z",
     "iopub.status.idle": "2022-12-24T13:03:50.273735Z",
     "shell.execute_reply": "2022-12-24T13:03:50.272818Z"
    },
    "papermill": {
     "duration": 2.052482,
     "end_time": "2022-12-24T13:03:50.275897",
     "exception": false,
     "start_time": "2022-12-24T13:03:48.223415",
     "status": "completed"
    },
    "tags": []
   },
   "outputs": [
    {
     "data": {
      "text/html": [
       "<div>\n",
       "<style scoped>\n",
       "    .dataframe tbody tr th:only-of-type {\n",
       "        vertical-align: middle;\n",
       "    }\n",
       "\n",
       "    .dataframe tbody tr th {\n",
       "        vertical-align: top;\n",
       "    }\n",
       "\n",
       "    .dataframe thead th {\n",
       "        text-align: right;\n",
       "    }\n",
       "</style>\n",
       "<table border=\"1\" class=\"dataframe\">\n",
       "  <thead>\n",
       "    <tr style=\"text-align: right;\">\n",
       "      <th></th>\n",
       "      <th>Elevation</th>\n",
       "      <th>Aspect</th>\n",
       "      <th>Slope</th>\n",
       "      <th>Horizontal_Distance_To_Hydrology</th>\n",
       "      <th>Vertical_Distance_To_Hydrology</th>\n",
       "      <th>Horizontal_Distance_To_Roadways</th>\n",
       "      <th>Hillshade_9am</th>\n",
       "      <th>Hillshade_Noon</th>\n",
       "      <th>Hillshade_3pm</th>\n",
       "      <th>Horizontal_Distance_To_Fire_Points</th>\n",
       "      <th>...</th>\n",
       "      <th>Soil_Type31</th>\n",
       "      <th>Soil_Type32</th>\n",
       "      <th>Soil_Type33</th>\n",
       "      <th>Soil_Type34</th>\n",
       "      <th>Soil_Type35</th>\n",
       "      <th>Soil_Type36</th>\n",
       "      <th>Soil_Type37</th>\n",
       "      <th>Soil_Type38</th>\n",
       "      <th>Soil_Type39</th>\n",
       "      <th>Soil_Type40</th>\n",
       "    </tr>\n",
       "  </thead>\n",
       "  <tbody>\n",
       "    <tr>\n",
       "      <th>0</th>\n",
       "      <td>3189</td>\n",
       "      <td>40</td>\n",
       "      <td>8</td>\n",
       "      <td>30</td>\n",
       "      <td>13</td>\n",
       "      <td>3270</td>\n",
       "      <td>206</td>\n",
       "      <td>234</td>\n",
       "      <td>193</td>\n",
       "      <td>4873</td>\n",
       "      <td>...</td>\n",
       "      <td>0</td>\n",
       "      <td>0</td>\n",
       "      <td>0</td>\n",
       "      <td>0</td>\n",
       "      <td>0</td>\n",
       "      <td>0</td>\n",
       "      <td>0</td>\n",
       "      <td>0</td>\n",
       "      <td>0</td>\n",
       "      <td>0</td>\n",
       "    </tr>\n",
       "    <tr>\n",
       "      <th>1</th>\n",
       "      <td>3026</td>\n",
       "      <td>182</td>\n",
       "      <td>5</td>\n",
       "      <td>280</td>\n",
       "      <td>29</td>\n",
       "      <td>3270</td>\n",
       "      <td>233</td>\n",
       "      <td>240</td>\n",
       "      <td>106</td>\n",
       "      <td>5423</td>\n",
       "      <td>...</td>\n",
       "      <td>0</td>\n",
       "      <td>0</td>\n",
       "      <td>0</td>\n",
       "      <td>0</td>\n",
       "      <td>0</td>\n",
       "      <td>0</td>\n",
       "      <td>0</td>\n",
       "      <td>0</td>\n",
       "      <td>0</td>\n",
       "      <td>0</td>\n",
       "    </tr>\n",
       "    <tr>\n",
       "      <th>2</th>\n",
       "      <td>3106</td>\n",
       "      <td>13</td>\n",
       "      <td>7</td>\n",
       "      <td>351</td>\n",
       "      <td>37</td>\n",
       "      <td>2914</td>\n",
       "      <td>208</td>\n",
       "      <td>234</td>\n",
       "      <td>137</td>\n",
       "      <td>5269</td>\n",
       "      <td>...</td>\n",
       "      <td>0</td>\n",
       "      <td>0</td>\n",
       "      <td>0</td>\n",
       "      <td>0</td>\n",
       "      <td>0</td>\n",
       "      <td>0</td>\n",
       "      <td>0</td>\n",
       "      <td>0</td>\n",
       "      <td>0</td>\n",
       "      <td>0</td>\n",
       "    </tr>\n",
       "    <tr>\n",
       "      <th>3</th>\n",
       "      <td>3022</td>\n",
       "      <td>276</td>\n",
       "      <td>13</td>\n",
       "      <td>192</td>\n",
       "      <td>16</td>\n",
       "      <td>3034</td>\n",
       "      <td>207</td>\n",
       "      <td>238</td>\n",
       "      <td>156</td>\n",
       "      <td>2866</td>\n",
       "      <td>...</td>\n",
       "      <td>0</td>\n",
       "      <td>0</td>\n",
       "      <td>0</td>\n",
       "      <td>0</td>\n",
       "      <td>0</td>\n",
       "      <td>0</td>\n",
       "      <td>0</td>\n",
       "      <td>0</td>\n",
       "      <td>0</td>\n",
       "      <td>0</td>\n",
       "    </tr>\n",
       "    <tr>\n",
       "      <th>4</th>\n",
       "      <td>2906</td>\n",
       "      <td>186</td>\n",
       "      <td>13</td>\n",
       "      <td>266</td>\n",
       "      <td>22</td>\n",
       "      <td>2916</td>\n",
       "      <td>231</td>\n",
       "      <td>231</td>\n",
       "      <td>154</td>\n",
       "      <td>2642</td>\n",
       "      <td>...</td>\n",
       "      <td>0</td>\n",
       "      <td>0</td>\n",
       "      <td>0</td>\n",
       "      <td>0</td>\n",
       "      <td>0</td>\n",
       "      <td>0</td>\n",
       "      <td>0</td>\n",
       "      <td>0</td>\n",
       "      <td>0</td>\n",
       "      <td>0</td>\n",
       "    </tr>\n",
       "  </tbody>\n",
       "</table>\n",
       "<p>5 rows × 52 columns</p>\n",
       "</div>"
      ],
      "text/plain": [
       "   Elevation  Aspect  Slope  Horizontal_Distance_To_Hydrology  \\\n",
       "0       3189      40      8                                30   \n",
       "1       3026     182      5                               280   \n",
       "2       3106      13      7                               351   \n",
       "3       3022     276     13                               192   \n",
       "4       2906     186     13                               266   \n",
       "\n",
       "   Vertical_Distance_To_Hydrology  Horizontal_Distance_To_Roadways  \\\n",
       "0                              13                             3270   \n",
       "1                              29                             3270   \n",
       "2                              37                             2914   \n",
       "3                              16                             3034   \n",
       "4                              22                             2916   \n",
       "\n",
       "   Hillshade_9am  Hillshade_Noon  Hillshade_3pm  \\\n",
       "0            206             234            193   \n",
       "1            233             240            106   \n",
       "2            208             234            137   \n",
       "3            207             238            156   \n",
       "4            231             231            154   \n",
       "\n",
       "   Horizontal_Distance_To_Fire_Points  ...  Soil_Type31  Soil_Type32  \\\n",
       "0                                4873  ...            0            0   \n",
       "1                                5423  ...            0            0   \n",
       "2                                5269  ...            0            0   \n",
       "3                                2866  ...            0            0   \n",
       "4                                2642  ...            0            0   \n",
       "\n",
       "   Soil_Type33  Soil_Type34  Soil_Type35  Soil_Type36  Soil_Type37  \\\n",
       "0            0            0            0            0            0   \n",
       "1            0            0            0            0            0   \n",
       "2            0            0            0            0            0   \n",
       "3            0            0            0            0            0   \n",
       "4            0            0            0            0            0   \n",
       "\n",
       "   Soil_Type38  Soil_Type39  Soil_Type40  \n",
       "0            0            0            0  \n",
       "1            0            0            0  \n",
       "2            0            0            0  \n",
       "3            0            0            0  \n",
       "4            0            0            0  \n",
       "\n",
       "[5 rows x 52 columns]"
      ]
     },
     "execution_count": 14,
     "metadata": {},
     "output_type": "execute_result"
    }
   ],
   "source": [
    "x_test = ds[ds[\"Cover_Type\"].isnull()].drop([\"Cover_Type\"],axis=1)\n",
    "ds = ds.dropna()\n",
    "\n",
    "y_train = ds[\"Cover_Type\"]\n",
    "le = LabelEncoder()\n",
    "y_train = pd.DataFrame(le.fit_transform(y_train))\n",
    "x_train = ds.drop([\"Cover_Type\"],axis=1)\n",
    "\n",
    "x_train.head()"
   ]
  },
  {
   "cell_type": "markdown",
   "id": "3a586f3d",
   "metadata": {
    "papermill": {
     "duration": 0.00764,
     "end_time": "2022-12-24T13:03:50.291877",
     "exception": false,
     "start_time": "2022-12-24T13:03:50.284237",
     "status": "completed"
    },
    "tags": []
   },
   "source": [
    "## **Model Evaluation<a name = \"eval\">**\n",
    "    \n",
    "We will be using extreme gradient boosting for this example.\n",
    "Note that the best parameters were taken from a discussion that was linked previously, as it would be difficult to derive the best parameters without using randomizedsearchcv."
   ]
  },
  {
   "cell_type": "code",
   "execution_count": 15,
   "id": "2a040c14",
   "metadata": {
    "execution": {
     "iopub.execute_input": "2022-12-24T13:03:50.308815Z",
     "iopub.status.busy": "2022-12-24T13:03:50.308527Z",
     "iopub.status.idle": "2022-12-24T15:53:04.227098Z",
     "shell.execute_reply": "2022-12-24T15:53:04.225878Z"
    },
    "papermill": {
     "duration": 10153.939306,
     "end_time": "2022-12-24T15:53:04.238915",
     "exception": false,
     "start_time": "2022-12-24T13:03:50.299609",
     "status": "completed"
    },
    "tags": []
   },
   "outputs": [
    {
     "name": "stderr",
     "output_type": "stream",
     "text": [
      "/opt/conda/lib/python3.7/site-packages/xgboost/sklearn.py:797: UserWarning: `eval_metric` in `fit` method is deprecated for better compatibility with scikit-learn, use `eval_metric` in constructor or`set_params` instead.\n",
      "  UserWarning,\n"
     ]
    },
    {
     "name": "stdout",
     "output_type": "stream",
     "text": [
      "Fold 0 Accuracy: 0.96078\n"
     ]
    },
    {
     "name": "stderr",
     "output_type": "stream",
     "text": [
      "/opt/conda/lib/python3.7/site-packages/xgboost/sklearn.py:797: UserWarning: `eval_metric` in `fit` method is deprecated for better compatibility with scikit-learn, use `eval_metric` in constructor or`set_params` instead.\n",
      "  UserWarning,\n"
     ]
    },
    {
     "name": "stdout",
     "output_type": "stream",
     "text": [
      "Fold 1 Accuracy: 0.9601775\n"
     ]
    },
    {
     "name": "stderr",
     "output_type": "stream",
     "text": [
      "/opt/conda/lib/python3.7/site-packages/xgboost/sklearn.py:797: UserWarning: `eval_metric` in `fit` method is deprecated for better compatibility with scikit-learn, use `eval_metric` in constructor or`set_params` instead.\n",
      "  UserWarning,\n"
     ]
    },
    {
     "name": "stdout",
     "output_type": "stream",
     "text": [
      "Fold 2 Accuracy: 0.9607575\n"
     ]
    },
    {
     "name": "stderr",
     "output_type": "stream",
     "text": [
      "/opt/conda/lib/python3.7/site-packages/xgboost/sklearn.py:797: UserWarning: `eval_metric` in `fit` method is deprecated for better compatibility with scikit-learn, use `eval_metric` in constructor or`set_params` instead.\n",
      "  UserWarning,\n"
     ]
    },
    {
     "name": "stdout",
     "output_type": "stream",
     "text": [
      "Fold 3 Accuracy: 0.9601725\n"
     ]
    },
    {
     "name": "stderr",
     "output_type": "stream",
     "text": [
      "/opt/conda/lib/python3.7/site-packages/xgboost/sklearn.py:797: UserWarning: `eval_metric` in `fit` method is deprecated for better compatibility with scikit-learn, use `eval_metric` in constructor or`set_params` instead.\n",
      "  UserWarning,\n"
     ]
    },
    {
     "name": "stdout",
     "output_type": "stream",
     "text": [
      "Fold 4 Accuracy: 0.9602625\n"
     ]
    },
    {
     "name": "stderr",
     "output_type": "stream",
     "text": [
      "/opt/conda/lib/python3.7/site-packages/xgboost/sklearn.py:797: UserWarning: `eval_metric` in `fit` method is deprecated for better compatibility with scikit-learn, use `eval_metric` in constructor or`set_params` instead.\n",
      "  UserWarning,\n"
     ]
    },
    {
     "name": "stdout",
     "output_type": "stream",
     "text": [
      "Fold 5 Accuracy: 0.9602975\n"
     ]
    },
    {
     "name": "stderr",
     "output_type": "stream",
     "text": [
      "/opt/conda/lib/python3.7/site-packages/xgboost/sklearn.py:797: UserWarning: `eval_metric` in `fit` method is deprecated for better compatibility with scikit-learn, use `eval_metric` in constructor or`set_params` instead.\n",
      "  UserWarning,\n"
     ]
    },
    {
     "name": "stdout",
     "output_type": "stream",
     "text": [
      "Fold 6 Accuracy: 0.9603025\n"
     ]
    },
    {
     "name": "stderr",
     "output_type": "stream",
     "text": [
      "/opt/conda/lib/python3.7/site-packages/xgboost/sklearn.py:797: UserWarning: `eval_metric` in `fit` method is deprecated for better compatibility with scikit-learn, use `eval_metric` in constructor or`set_params` instead.\n",
      "  UserWarning,\n"
     ]
    },
    {
     "name": "stdout",
     "output_type": "stream",
     "text": [
      "Fold 7 Accuracy: 0.960725\n"
     ]
    },
    {
     "name": "stderr",
     "output_type": "stream",
     "text": [
      "/opt/conda/lib/python3.7/site-packages/xgboost/sklearn.py:797: UserWarning: `eval_metric` in `fit` method is deprecated for better compatibility with scikit-learn, use `eval_metric` in constructor or`set_params` instead.\n",
      "  UserWarning,\n"
     ]
    },
    {
     "name": "stdout",
     "output_type": "stream",
     "text": [
      "Fold 8 Accuracy: 0.9606925\n"
     ]
    },
    {
     "name": "stderr",
     "output_type": "stream",
     "text": [
      "/opt/conda/lib/python3.7/site-packages/xgboost/sklearn.py:797: UserWarning: `eval_metric` in `fit` method is deprecated for better compatibility with scikit-learn, use `eval_metric` in constructor or`set_params` instead.\n",
      "  UserWarning,\n"
     ]
    },
    {
     "name": "stdout",
     "output_type": "stream",
     "text": [
      "Fold 9 Accuracy: 0.960479901199753\n",
      "\n",
      "Mean Accuracy: 0.9604647401199753\n"
     ]
    }
   ],
   "source": [
    "best_params = {\n",
    "    \"n_estimators\": 1700,\n",
    "    \"max_depth\": 12,\n",
    "    \"learning_rate\": 0.01146513635635539,\n",
    "    \"gamma\": 0.2594531967123816,\n",
    "    \"min_child_weight\": 3.4942992853505186,\n",
    "    \"subsample\": 0.6257232748066737,\n",
    "    \"colsample_bytree\": 0.626827539397344,\n",
    "    \"reg_alpha\": 6,\n",
    "    \"reg_lambda\": 87\n",
    "}\n",
    "\n",
    "feat_imp = pd.Series(0, index=x_test.columns)\n",
    "test_preds = np.zeros((1, 1))\n",
    "scores = []\n",
    "\n",
    "cv = StratifiedKFold(n_splits=10, shuffle=True, random_state=1)\n",
    "\n",
    "for fold, (train_idx, val_idx) in enumerate(cv.split(x_train, y_train)):\n",
    "    X_train, X_val = x_train.iloc[train_idx, :], x_train.iloc[val_idx, :]\n",
    "    Y_train, Y_val = y_train.iloc[train_idx, :], y_train.iloc[val_idx, :]\n",
    "\n",
    "    clf = XGBClassifier(**best_params, tree_method=\"gpu_hist\", use_label_encoder=False)\n",
    "    clf.fit(\n",
    "        X_train,\n",
    "        Y_train,\n",
    "        eval_set=[(X_val, Y_val)],\n",
    "        verbose=False,\n",
    "        eval_metric=\"mlogloss\"\n",
    "    )\n",
    "\n",
    "    y_pred = clf.predict(X_val)\n",
    "    score = accuracy_score(Y_val, y_pred)\n",
    "    scores.append(score)\n",
    "\n",
    "    feat_imp = feat_imp + pd.Series(clf.get_booster().get_score(importance_type=\"gain\"))\n",
    "    test_preds = test_preds + clf.predict_proba(x_test)\n",
    "\n",
    "    print(f\"Fold {fold} Accuracy: {score}\")\n",
    "\n",
    "print()\n",
    "print(f\"Mean Accuracy: {np.mean(scores)}\")"
   ]
  },
  {
   "cell_type": "code",
   "execution_count": 16,
   "id": "85ee3c99",
   "metadata": {
    "execution": {
     "iopub.execute_input": "2022-12-24T15:53:04.328159Z",
     "iopub.status.busy": "2022-12-24T15:53:04.326476Z",
     "iopub.status.idle": "2022-12-24T15:53:06.269868Z",
     "shell.execute_reply": "2022-12-24T15:53:06.268869Z"
    },
    "papermill": {
     "duration": 1.955975,
     "end_time": "2022-12-24T15:53:06.272360",
     "exception": false,
     "start_time": "2022-12-24T15:53:04.316385",
     "status": "completed"
    },
    "tags": []
   },
   "outputs": [],
   "source": [
    "submission[\"Cover_Type\"] = test_preds\n",
    "submission.to_csv(\"submission.csv\", index=False)"
   ]
  }
 ],
 "metadata": {
  "kernelspec": {
   "display_name": "Python 3",
   "language": "python",
   "name": "python3"
  },
  "language_info": {
   "codemirror_mode": {
    "name": "ipython",
    "version": 3
   },
   "file_extension": ".py",
   "mimetype": "text/x-python",
   "name": "python",
   "nbconvert_exporter": "python",
   "pygments_lexer": "ipython3",
   "version": "3.7.12"
  },
  "papermill": {
   "default_parameters": {},
   "duration": 10225.709101,
   "end_time": "2022-12-24T15:53:07.620726",
   "environment_variables": {},
   "exception": null,
   "input_path": "__notebook__.ipynb",
   "output_path": "__notebook__.ipynb",
   "parameters": {},
   "start_time": "2022-12-24T13:02:41.911625",
   "version": "2.3.4"
  }
 },
 "nbformat": 4,
 "nbformat_minor": 5
}
