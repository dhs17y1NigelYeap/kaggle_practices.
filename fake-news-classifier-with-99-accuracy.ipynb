{
 "cells": [
  {
   "cell_type": "markdown",
   "id": "836fb4c7",
   "metadata": {
    "papermill": {
     "duration": 0.005874,
     "end_time": "2022-12-18T04:53:09.074595",
     "exception": false,
     "start_time": "2022-12-18T04:53:09.068721",
     "status": "completed"
    },
    "tags": []
   },
   "source": [
    "Hello! Welcome to a kaggle beginner's interpretation of the best way to tackle this problem.\n",
    "\n",
    "\n",
    "\n",
    "**Importing and reading relevant files**"
   ]
  },
  {
   "cell_type": "code",
   "execution_count": 1,
   "id": "3aa23a6b",
   "metadata": {
    "_cell_guid": "b1076dfc-b9ad-4769-8c92-a6c4dae69d19",
    "_uuid": "8f2839f25d086af736a60e9eeb907d3b93b6e0e5",
    "execution": {
     "iopub.execute_input": "2022-12-18T04:53:09.086735Z",
     "iopub.status.busy": "2022-12-18T04:53:09.086058Z",
     "iopub.status.idle": "2022-12-18T04:53:13.944052Z",
     "shell.execute_reply": "2022-12-18T04:53:13.942381Z"
    },
    "papermill": {
     "duration": 4.868106,
     "end_time": "2022-12-18T04:53:13.947583",
     "exception": false,
     "start_time": "2022-12-18T04:53:09.079477",
     "status": "completed"
    },
    "tags": []
   },
   "outputs": [
    {
     "data": {
      "text/html": [
       "<div>\n",
       "<style scoped>\n",
       "    .dataframe tbody tr th:only-of-type {\n",
       "        vertical-align: middle;\n",
       "    }\n",
       "\n",
       "    .dataframe tbody tr th {\n",
       "        vertical-align: top;\n",
       "    }\n",
       "\n",
       "    .dataframe thead th {\n",
       "        text-align: right;\n",
       "    }\n",
       "</style>\n",
       "<table border=\"1\" class=\"dataframe\">\n",
       "  <thead>\n",
       "    <tr style=\"text-align: right;\">\n",
       "      <th></th>\n",
       "      <th>title</th>\n",
       "      <th>text</th>\n",
       "      <th>subject</th>\n",
       "      <th>date</th>\n",
       "    </tr>\n",
       "  </thead>\n",
       "  <tbody>\n",
       "    <tr>\n",
       "      <th>0</th>\n",
       "      <td>As U.S. budget fight looms, Republicans flip t...</td>\n",
       "      <td>WASHINGTON (Reuters) - The head of a conservat...</td>\n",
       "      <td>politicsNews</td>\n",
       "      <td>December 31, 2017</td>\n",
       "    </tr>\n",
       "    <tr>\n",
       "      <th>1</th>\n",
       "      <td>U.S. military to accept transgender recruits o...</td>\n",
       "      <td>WASHINGTON (Reuters) - Transgender people will...</td>\n",
       "      <td>politicsNews</td>\n",
       "      <td>December 29, 2017</td>\n",
       "    </tr>\n",
       "    <tr>\n",
       "      <th>2</th>\n",
       "      <td>Senior U.S. Republican senator: 'Let Mr. Muell...</td>\n",
       "      <td>WASHINGTON (Reuters) - The special counsel inv...</td>\n",
       "      <td>politicsNews</td>\n",
       "      <td>December 31, 2017</td>\n",
       "    </tr>\n",
       "    <tr>\n",
       "      <th>3</th>\n",
       "      <td>FBI Russia probe helped by Australian diplomat...</td>\n",
       "      <td>WASHINGTON (Reuters) - Trump campaign adviser ...</td>\n",
       "      <td>politicsNews</td>\n",
       "      <td>December 30, 2017</td>\n",
       "    </tr>\n",
       "    <tr>\n",
       "      <th>4</th>\n",
       "      <td>Trump wants Postal Service to charge 'much mor...</td>\n",
       "      <td>SEATTLE/WASHINGTON (Reuters) - President Donal...</td>\n",
       "      <td>politicsNews</td>\n",
       "      <td>December 29, 2017</td>\n",
       "    </tr>\n",
       "  </tbody>\n",
       "</table>\n",
       "</div>"
      ],
      "text/plain": [
       "                                               title  \\\n",
       "0  As U.S. budget fight looms, Republicans flip t...   \n",
       "1  U.S. military to accept transgender recruits o...   \n",
       "2  Senior U.S. Republican senator: 'Let Mr. Muell...   \n",
       "3  FBI Russia probe helped by Australian diplomat...   \n",
       "4  Trump wants Postal Service to charge 'much mor...   \n",
       "\n",
       "                                                text       subject  \\\n",
       "0  WASHINGTON (Reuters) - The head of a conservat...  politicsNews   \n",
       "1  WASHINGTON (Reuters) - Transgender people will...  politicsNews   \n",
       "2  WASHINGTON (Reuters) - The special counsel inv...  politicsNews   \n",
       "3  WASHINGTON (Reuters) - Trump campaign adviser ...  politicsNews   \n",
       "4  SEATTLE/WASHINGTON (Reuters) - President Donal...  politicsNews   \n",
       "\n",
       "                 date  \n",
       "0  December 31, 2017   \n",
       "1  December 29, 2017   \n",
       "2  December 31, 2017   \n",
       "3  December 30, 2017   \n",
       "4  December 29, 2017   "
      ]
     },
     "execution_count": 1,
     "metadata": {},
     "output_type": "execute_result"
    }
   ],
   "source": [
    "import numpy as np \n",
    "import pandas as pd \n",
    "from sklearn.model_selection import train_test_split\n",
    "import nltk\n",
    "from nltk.stem import WordNetLemmatizer\n",
    "from nltk.tokenize import word_tokenize\n",
    "from nltk.corpus import stopwords\n",
    "import re\n",
    "\n",
    "true = pd.read_csv(\"/kaggle/input/fake-news-detection/True.csv\")\n",
    "fake = pd.read_csv(\"/kaggle/input/fake-news-detection/Fake.csv\")\n",
    "true.head()"
   ]
  },
  {
   "cell_type": "code",
   "execution_count": 2,
   "id": "104929e7",
   "metadata": {
    "execution": {
     "iopub.execute_input": "2022-12-18T04:53:13.960218Z",
     "iopub.status.busy": "2022-12-18T04:53:13.958903Z",
     "iopub.status.idle": "2022-12-18T04:53:14.581685Z",
     "shell.execute_reply": "2022-12-18T04:53:14.580163Z"
    },
    "papermill": {
     "duration": 0.632023,
     "end_time": "2022-12-18T04:53:14.584852",
     "exception": false,
     "start_time": "2022-12-18T04:53:13.952829",
     "status": "completed"
    },
    "tags": []
   },
   "outputs": [],
   "source": [
    "from gc import collect;\n",
    "from IPython.display import clear_output;\n",
    "import nltk;\n",
    "dler = nltk.downloader.Downloader();\n",
    "dler._update_index();\n",
    "nltk.download('omw-1.4');\n",
    "\n",
    "clear_output();\n",
    "for i in range(3): collect(i);"
   ]
  },
  {
   "cell_type": "code",
   "execution_count": 3,
   "id": "99f7e9af",
   "metadata": {
    "execution": {
     "iopub.execute_input": "2022-12-18T04:53:14.597223Z",
     "iopub.status.busy": "2022-12-18T04:53:14.596155Z",
     "iopub.status.idle": "2022-12-18T04:53:14.609680Z",
     "shell.execute_reply": "2022-12-18T04:53:14.608372Z"
    },
    "papermill": {
     "duration": 0.022042,
     "end_time": "2022-12-18T04:53:14.611925",
     "exception": false,
     "start_time": "2022-12-18T04:53:14.589883",
     "status": "completed"
    },
    "tags": []
   },
   "outputs": [
    {
     "data": {
      "text/html": [
       "<div>\n",
       "<style scoped>\n",
       "    .dataframe tbody tr th:only-of-type {\n",
       "        vertical-align: middle;\n",
       "    }\n",
       "\n",
       "    .dataframe tbody tr th {\n",
       "        vertical-align: top;\n",
       "    }\n",
       "\n",
       "    .dataframe thead th {\n",
       "        text-align: right;\n",
       "    }\n",
       "</style>\n",
       "<table border=\"1\" class=\"dataframe\">\n",
       "  <thead>\n",
       "    <tr style=\"text-align: right;\">\n",
       "      <th></th>\n",
       "      <th>title</th>\n",
       "      <th>text</th>\n",
       "      <th>subject</th>\n",
       "      <th>date</th>\n",
       "    </tr>\n",
       "  </thead>\n",
       "  <tbody>\n",
       "    <tr>\n",
       "      <th>0</th>\n",
       "      <td>As U.S. budget fight looms, Republicans flip t...</td>\n",
       "      <td>WASHINGTON (Reuters) - The head of a conservat...</td>\n",
       "      <td>politicsNews</td>\n",
       "      <td>December 31, 2017</td>\n",
       "    </tr>\n",
       "    <tr>\n",
       "      <th>1</th>\n",
       "      <td>U.S. military to accept transgender recruits o...</td>\n",
       "      <td>WASHINGTON (Reuters) - Transgender people will...</td>\n",
       "      <td>politicsNews</td>\n",
       "      <td>December 29, 2017</td>\n",
       "    </tr>\n",
       "    <tr>\n",
       "      <th>2</th>\n",
       "      <td>Senior U.S. Republican senator: 'Let Mr. Muell...</td>\n",
       "      <td>WASHINGTON (Reuters) - The special counsel inv...</td>\n",
       "      <td>politicsNews</td>\n",
       "      <td>December 31, 2017</td>\n",
       "    </tr>\n",
       "    <tr>\n",
       "      <th>3</th>\n",
       "      <td>FBI Russia probe helped by Australian diplomat...</td>\n",
       "      <td>WASHINGTON (Reuters) - Trump campaign adviser ...</td>\n",
       "      <td>politicsNews</td>\n",
       "      <td>December 30, 2017</td>\n",
       "    </tr>\n",
       "    <tr>\n",
       "      <th>4</th>\n",
       "      <td>Trump wants Postal Service to charge 'much mor...</td>\n",
       "      <td>SEATTLE/WASHINGTON (Reuters) - President Donal...</td>\n",
       "      <td>politicsNews</td>\n",
       "      <td>December 29, 2017</td>\n",
       "    </tr>\n",
       "  </tbody>\n",
       "</table>\n",
       "</div>"
      ],
      "text/plain": [
       "                                               title  \\\n",
       "0  As U.S. budget fight looms, Republicans flip t...   \n",
       "1  U.S. military to accept transgender recruits o...   \n",
       "2  Senior U.S. Republican senator: 'Let Mr. Muell...   \n",
       "3  FBI Russia probe helped by Australian diplomat...   \n",
       "4  Trump wants Postal Service to charge 'much mor...   \n",
       "\n",
       "                                                text       subject  \\\n",
       "0  WASHINGTON (Reuters) - The head of a conservat...  politicsNews   \n",
       "1  WASHINGTON (Reuters) - Transgender people will...  politicsNews   \n",
       "2  WASHINGTON (Reuters) - The special counsel inv...  politicsNews   \n",
       "3  WASHINGTON (Reuters) - Trump campaign adviser ...  politicsNews   \n",
       "4  SEATTLE/WASHINGTON (Reuters) - President Donal...  politicsNews   \n",
       "\n",
       "                 date  \n",
       "0  December 31, 2017   \n",
       "1  December 29, 2017   \n",
       "2  December 31, 2017   \n",
       "3  December 30, 2017   \n",
       "4  December 29, 2017   "
      ]
     },
     "execution_count": 3,
     "metadata": {},
     "output_type": "execute_result"
    }
   ],
   "source": [
    "true.head()"
   ]
  },
  {
   "cell_type": "markdown",
   "id": "d4b897fe",
   "metadata": {
    "papermill": {
     "duration": 0.004501,
     "end_time": "2022-12-18T04:53:14.621520",
     "exception": false,
     "start_time": "2022-12-18T04:53:14.617019",
     "status": "completed"
    },
    "tags": []
   },
   "source": [
    "Let's combine both true and fake news datasets into the same dataset to make life easier. \n",
    "\n",
    "At the same time, we add in an indicator that helps us differentiate the two types of news."
   ]
  },
  {
   "cell_type": "code",
   "execution_count": 4,
   "id": "bd8b3363",
   "metadata": {
    "execution": {
     "iopub.execute_input": "2022-12-18T04:53:14.633567Z",
     "iopub.status.busy": "2022-12-18T04:53:14.633030Z",
     "iopub.status.idle": "2022-12-18T04:53:14.705613Z",
     "shell.execute_reply": "2022-12-18T04:53:14.704343Z"
    },
    "papermill": {
     "duration": 0.081886,
     "end_time": "2022-12-18T04:53:14.708230",
     "exception": false,
     "start_time": "2022-12-18T04:53:14.626344",
     "status": "completed"
    },
    "tags": []
   },
   "outputs": [
    {
     "data": {
      "text/html": [
       "<div>\n",
       "<style scoped>\n",
       "    .dataframe tbody tr th:only-of-type {\n",
       "        vertical-align: middle;\n",
       "    }\n",
       "\n",
       "    .dataframe tbody tr th {\n",
       "        vertical-align: top;\n",
       "    }\n",
       "\n",
       "    .dataframe thead th {\n",
       "        text-align: right;\n",
       "    }\n",
       "</style>\n",
       "<table border=\"1\" class=\"dataframe\">\n",
       "  <thead>\n",
       "    <tr style=\"text-align: right;\">\n",
       "      <th></th>\n",
       "      <th>title</th>\n",
       "      <th>text</th>\n",
       "      <th>subject</th>\n",
       "      <th>date</th>\n",
       "      <th>Class</th>\n",
       "    </tr>\n",
       "  </thead>\n",
       "  <tbody>\n",
       "    <tr>\n",
       "      <th>0</th>\n",
       "      <td>Frankfurt starts evacuation before attempt to ...</td>\n",
       "      <td>FRANKFURT (Reuters) - Frankfurt emergency serv...</td>\n",
       "      <td>worldnews</td>\n",
       "      <td>September 2, 2017</td>\n",
       "      <td>1</td>\n",
       "    </tr>\n",
       "    <tr>\n",
       "      <th>1</th>\n",
       "      <td>WATCH: Kieth Scott’s Wife Drops Mic On Cops, ...</td>\n",
       "      <td>What you are about to see is disturbing. Keith...</td>\n",
       "      <td>News</td>\n",
       "      <td>September 23, 2016</td>\n",
       "      <td>0</td>\n",
       "    </tr>\n",
       "    <tr>\n",
       "      <th>2</th>\n",
       "      <td>Fatal Niger operation sparks calls for public ...</td>\n",
       "      <td>WASHINGTON (Reuters) - Democratic U.S. lawmake...</td>\n",
       "      <td>politicsNews</td>\n",
       "      <td>October 26, 2017</td>\n",
       "      <td>1</td>\n",
       "    </tr>\n",
       "    <tr>\n",
       "      <th>3</th>\n",
       "      <td>BREAKING: ONLY MLB Player To Kneel During Nati...</td>\n",
       "      <td>When Oakland Athletics catcher Bruce Maxwell t...</td>\n",
       "      <td>politics</td>\n",
       "      <td>Oct 29, 2017</td>\n",
       "      <td>0</td>\n",
       "    </tr>\n",
       "    <tr>\n",
       "      <th>4</th>\n",
       "      <td>Rosy White House tax cut forecast clashes with...</td>\n",
       "      <td>WASHINGTON/NEW YORK (Reuters) - The White Hous...</td>\n",
       "      <td>politicsNews</td>\n",
       "      <td>October 27, 2017</td>\n",
       "      <td>1</td>\n",
       "    </tr>\n",
       "  </tbody>\n",
       "</table>\n",
       "</div>"
      ],
      "text/plain": [
       "                                               title  \\\n",
       "0  Frankfurt starts evacuation before attempt to ...   \n",
       "1   WATCH: Kieth Scott’s Wife Drops Mic On Cops, ...   \n",
       "2  Fatal Niger operation sparks calls for public ...   \n",
       "3  BREAKING: ONLY MLB Player To Kneel During Nati...   \n",
       "4  Rosy White House tax cut forecast clashes with...   \n",
       "\n",
       "                                                text       subject  \\\n",
       "0  FRANKFURT (Reuters) - Frankfurt emergency serv...     worldnews   \n",
       "1  What you are about to see is disturbing. Keith...          News   \n",
       "2  WASHINGTON (Reuters) - Democratic U.S. lawmake...  politicsNews   \n",
       "3  When Oakland Athletics catcher Bruce Maxwell t...      politics   \n",
       "4  WASHINGTON/NEW YORK (Reuters) - The White Hous...  politicsNews   \n",
       "\n",
       "                 date Class  \n",
       "0  September 2, 2017      1  \n",
       "1  September 23, 2016     0  \n",
       "2   October 26, 2017      1  \n",
       "3        Oct 29, 2017     0  \n",
       "4   October 27, 2017      1  "
      ]
     },
     "execution_count": 4,
     "metadata": {},
     "output_type": "execute_result"
    }
   ],
   "source": [
    "true[\"Class\"] = \"1\"\n",
    "fake[\"Class\"] = \"0\"\n",
    "dataset = pd.concat([true,fake])\n",
    "dataset = dataset.sample(frac=1).reset_index(drop=True)\n",
    "dataset.head()"
   ]
  },
  {
   "cell_type": "markdown",
   "id": "092ec6d7",
   "metadata": {
    "papermill": {
     "duration": 0.004577,
     "end_time": "2022-12-18T04:53:14.717934",
     "exception": false,
     "start_time": "2022-12-18T04:53:14.713357",
     "status": "completed"
    },
    "tags": []
   },
   "source": [
    "**Next, we check for any missing or erroneous data.**"
   ]
  },
  {
   "cell_type": "code",
   "execution_count": 5,
   "id": "d976475c",
   "metadata": {
    "execution": {
     "iopub.execute_input": "2022-12-18T04:53:14.730042Z",
     "iopub.status.busy": "2022-12-18T04:53:14.729540Z",
     "iopub.status.idle": "2022-12-18T04:53:14.764987Z",
     "shell.execute_reply": "2022-12-18T04:53:14.763607Z"
    },
    "papermill": {
     "duration": 0.045058,
     "end_time": "2022-12-18T04:53:14.767802",
     "exception": false,
     "start_time": "2022-12-18T04:53:14.722744",
     "status": "completed"
    },
    "tags": []
   },
   "outputs": [
    {
     "data": {
      "text/plain": [
       "title      0\n",
       "text       0\n",
       "subject    0\n",
       "date       0\n",
       "Class      0\n",
       "dtype: int64"
      ]
     },
     "execution_count": 5,
     "metadata": {},
     "output_type": "execute_result"
    }
   ],
   "source": [
    "dataset.isnull().sum()"
   ]
  },
  {
   "cell_type": "markdown",
   "id": "21360046",
   "metadata": {
    "papermill": {
     "duration": 0.005031,
     "end_time": "2022-12-18T04:53:14.778523",
     "exception": false,
     "start_time": "2022-12-18T04:53:14.773492",
     "status": "completed"
    },
    "tags": []
   },
   "source": [
    "**Removing unnecessary columns**\n",
    "\n",
    "\n",
    "On closer examination, the date, subject and title are not relevant to our classification. Thus, we remove them.\n",
    "\n",
    "Furthermore, we should combine all forms of text into one column."
   ]
  },
  {
   "cell_type": "code",
   "execution_count": 6,
   "id": "197e653a",
   "metadata": {
    "execution": {
     "iopub.execute_input": "2022-12-18T04:53:14.790817Z",
     "iopub.status.busy": "2022-12-18T04:53:14.790407Z",
     "iopub.status.idle": "2022-12-18T04:53:15.005439Z",
     "shell.execute_reply": "2022-12-18T04:53:15.003472Z"
    },
    "papermill": {
     "duration": 0.224525,
     "end_time": "2022-12-18T04:53:15.008339",
     "exception": false,
     "start_time": "2022-12-18T04:53:14.783814",
     "status": "completed"
    },
    "tags": []
   },
   "outputs": [
    {
     "data": {
      "text/html": [
       "<div>\n",
       "<style scoped>\n",
       "    .dataframe tbody tr th:only-of-type {\n",
       "        vertical-align: middle;\n",
       "    }\n",
       "\n",
       "    .dataframe tbody tr th {\n",
       "        vertical-align: top;\n",
       "    }\n",
       "\n",
       "    .dataframe thead th {\n",
       "        text-align: right;\n",
       "    }\n",
       "</style>\n",
       "<table border=\"1\" class=\"dataframe\">\n",
       "  <thead>\n",
       "    <tr style=\"text-align: right;\">\n",
       "      <th></th>\n",
       "      <th>text</th>\n",
       "      <th>Class</th>\n",
       "    </tr>\n",
       "  </thead>\n",
       "  <tbody>\n",
       "    <tr>\n",
       "      <th>0</th>\n",
       "      <td>FRANKFURT (Reuters) - Frankfurt emergency serv...</td>\n",
       "      <td>1</td>\n",
       "    </tr>\n",
       "    <tr>\n",
       "      <th>1</th>\n",
       "      <td>What you are about to see is disturbing. Keith...</td>\n",
       "      <td>0</td>\n",
       "    </tr>\n",
       "    <tr>\n",
       "      <th>2</th>\n",
       "      <td>WASHINGTON (Reuters) - Democratic U.S. lawmake...</td>\n",
       "      <td>1</td>\n",
       "    </tr>\n",
       "    <tr>\n",
       "      <th>3</th>\n",
       "      <td>When Oakland Athletics catcher Bruce Maxwell t...</td>\n",
       "      <td>0</td>\n",
       "    </tr>\n",
       "    <tr>\n",
       "      <th>4</th>\n",
       "      <td>WASHINGTON/NEW YORK (Reuters) - The White Hous...</td>\n",
       "      <td>1</td>\n",
       "    </tr>\n",
       "  </tbody>\n",
       "</table>\n",
       "</div>"
      ],
      "text/plain": [
       "                                                text Class\n",
       "0  FRANKFURT (Reuters) - Frankfurt emergency serv...     1\n",
       "1  What you are about to see is disturbing. Keith...     0\n",
       "2  WASHINGTON (Reuters) - Democratic U.S. lawmake...     1\n",
       "3  When Oakland Athletics catcher Bruce Maxwell t...     0\n",
       "4  WASHINGTON/NEW YORK (Reuters) - The White Hous...     1"
      ]
     },
     "execution_count": 6,
     "metadata": {},
     "output_type": "execute_result"
    }
   ],
   "source": [
    "dataset.text = dataset.text + dataset.title\n",
    "dataset.drop([\"title\",\"subject\",\"date\"],axis=1,inplace = True)\n",
    "dataset.head()"
   ]
  },
  {
   "cell_type": "markdown",
   "id": "e5cfad2c",
   "metadata": {
    "papermill": {
     "duration": 0.004975,
     "end_time": "2022-12-18T04:53:15.018684",
     "exception": false,
     "start_time": "2022-12-18T04:53:15.013709",
     "status": "completed"
    },
    "tags": []
   },
   "source": [
    "**Lemmatization**\n",
    "\n",
    "\n",
    "We will now use the concept of lemmatization so that we can convert the chunk of text into readable data.\n",
    "\n",
    "Lemmatization can also be tweaked to remove useless words from affecting the predictions, such as \"a\",\"the\",\"and\".\n",
    "\n",
    "To facilitate the use of the vectorizer, we will also include a space to seperate each chunk of words, as well as adjust all of them to be lowercase to standardise them.\n"
   ]
  },
  {
   "cell_type": "code",
   "execution_count": 7,
   "id": "adaf0e42",
   "metadata": {
    "execution": {
     "iopub.execute_input": "2022-12-18T04:53:15.031062Z",
     "iopub.status.busy": "2022-12-18T04:53:15.030455Z",
     "iopub.status.idle": "2022-12-18T04:57:09.737208Z",
     "shell.execute_reply": "2022-12-18T04:57:09.735596Z"
    },
    "papermill": {
     "duration": 234.719204,
     "end_time": "2022-12-18T04:57:09.742939",
     "exception": false,
     "start_time": "2022-12-18T04:53:15.023735",
     "status": "completed"
    },
    "tags": []
   },
   "outputs": [
    {
     "data": {
      "text/html": [
       "<div>\n",
       "<style scoped>\n",
       "    .dataframe tbody tr th:only-of-type {\n",
       "        vertical-align: middle;\n",
       "    }\n",
       "\n",
       "    .dataframe tbody tr th {\n",
       "        vertical-align: top;\n",
       "    }\n",
       "\n",
       "    .dataframe thead th {\n",
       "        text-align: right;\n",
       "    }\n",
       "</style>\n",
       "<table border=\"1\" class=\"dataframe\">\n",
       "  <thead>\n",
       "    <tr style=\"text-align: right;\">\n",
       "      <th></th>\n",
       "      <th>text</th>\n",
       "      <th>Class</th>\n",
       "    </tr>\n",
       "  </thead>\n",
       "  <tbody>\n",
       "    <tr>\n",
       "      <th>0</th>\n",
       "      <td>frankfurt  reuters   frankfurt emergency servi...</td>\n",
       "      <td>1</td>\n",
       "    </tr>\n",
       "    <tr>\n",
       "      <th>1</th>\n",
       "      <td>what see disturbing  keith lamont scott  man k...</td>\n",
       "      <td>0</td>\n",
       "    </tr>\n",
       "    <tr>\n",
       "      <th>2</th>\n",
       "      <td>washington  reuters   democratic u lawmaker ca...</td>\n",
       "      <td>1</td>\n",
       "    </tr>\n",
       "    <tr>\n",
       "      <th>3</th>\n",
       "      <td>when oakland athletics catcher bruce maxwell t...</td>\n",
       "      <td>0</td>\n",
       "    </tr>\n",
       "    <tr>\n",
       "      <th>4</th>\n",
       "      <td>washingtonnew york  reuters   the white house ...</td>\n",
       "      <td>1</td>\n",
       "    </tr>\n",
       "  </tbody>\n",
       "</table>\n",
       "</div>"
      ],
      "text/plain": [
       "                                                text Class\n",
       "0  frankfurt  reuters   frankfurt emergency servi...     1\n",
       "1  what see disturbing  keith lamont scott  man k...     0\n",
       "2  washington  reuters   democratic u lawmaker ca...     1\n",
       "3  when oakland athletics catcher bruce maxwell t...     0\n",
       "4  washingtonnew york  reuters   the white house ...     1"
      ]
     },
     "execution_count": 7,
     "metadata": {},
     "output_type": "execute_result"
    }
   ],
   "source": [
    "stop_words = set(stopwords.words(\"english\"))\n",
    "\n",
    "def Lemmatizer(text):\n",
    "    word_bank = []\n",
    "    lem = WordNetLemmatizer()\n",
    "    word_tokens = word_tokenize(text)\n",
    "    for word in word_tokens:\n",
    "        if word not in stop_words:\n",
    "            new_word = re.sub('[^a-zA-Z]', '',word)\n",
    "            new_word = new_word.lower()\n",
    "            lemmatized_word = lem.lemmatize(new_word)\n",
    "            word_bank.append(lemmatized_word)\n",
    "    \n",
    "\n",
    "    return \" \".join(word_bank)\n",
    "\n",
    "dataset[\"text\"] = dataset[\"text\"].apply(Lemmatizer)\n",
    "dataset.head()"
   ]
  },
  {
   "cell_type": "markdown",
   "id": "cb37386b",
   "metadata": {
    "papermill": {
     "duration": 0.005178,
     "end_time": "2022-12-18T04:57:09.754139",
     "exception": false,
     "start_time": "2022-12-18T04:57:09.748961",
     "status": "completed"
    },
    "tags": []
   },
   "source": [
    "**Vectorization and splitting**\n",
    "\n",
    "In order to convert our bits of text into data that can be interpreted, we will be using a TF-IDF vectorizer.\n",
    "\n",
    "\n",
    "More info can be read here:\n",
    "https://medium.com/@cmukesh8688/tf-idf-vectorizer-scikit-learn-dbc0244a911a\n",
    "\n",
    "In short, it is a way of weighing each individual word based on the amount of the times it appears in all texts."
   ]
  },
  {
   "cell_type": "code",
   "execution_count": 8,
   "id": "24285478",
   "metadata": {
    "execution": {
     "iopub.execute_input": "2022-12-18T04:57:09.767060Z",
     "iopub.status.busy": "2022-12-18T04:57:09.766655Z",
     "iopub.status.idle": "2022-12-18T04:57:21.262128Z",
     "shell.execute_reply": "2022-12-18T04:57:21.260596Z"
    },
    "papermill": {
     "duration": 11.506418,
     "end_time": "2022-12-18T04:57:21.265980",
     "exception": false,
     "start_time": "2022-12-18T04:57:09.759562",
     "status": "completed"
    },
    "tags": []
   },
   "outputs": [],
   "source": [
    "from sklearn.feature_extraction.text import TfidfVectorizer\n",
    "x_train, x_test, y_train, y_test = train_test_split(pd.DataFrame(dataset[\"text\"]),pd.DataFrame(dataset[\"Class\"]), test_size=0.2, random_state=1)\n",
    "\n",
    "vectorization = TfidfVectorizer()\n",
    "xv_train = vectorization.fit_transform(x_train.iloc[:,0])\n",
    "xv_test = vectorization.transform(x_test.iloc[:,0])"
   ]
  },
  {
   "cell_type": "markdown",
   "id": "4a88634f",
   "metadata": {
    "papermill": {
     "duration": 0.005811,
     "end_time": "2022-12-18T04:57:21.278481",
     "exception": false,
     "start_time": "2022-12-18T04:57:21.272670",
     "status": "completed"
    },
    "tags": []
   },
   "source": [
    "Let's test this using the passive aggressive classifier.\n",
    "\n",
    "In short, the PAC is a less computationally taxing algorithm that is almost exclusively used to detect fake news.\n",
    "\n",
    "Read more:https://www.geeksforgeeks.org/passive-aggressive-classifiers/"
   ]
  },
  {
   "cell_type": "code",
   "execution_count": 9,
   "id": "d00011ce",
   "metadata": {
    "execution": {
     "iopub.execute_input": "2022-12-18T04:57:21.292065Z",
     "iopub.status.busy": "2022-12-18T04:57:21.291626Z",
     "iopub.status.idle": "2022-12-18T04:57:22.005030Z",
     "shell.execute_reply": "2022-12-18T04:57:22.001664Z"
    },
    "papermill": {
     "duration": 0.726175,
     "end_time": "2022-12-18T04:57:22.010497",
     "exception": false,
     "start_time": "2022-12-18T04:57:21.284322",
     "status": "completed"
    },
    "tags": []
   },
   "outputs": [
    {
     "name": "stderr",
     "output_type": "stream",
     "text": [
      "/opt/conda/lib/python3.7/site-packages/sklearn/utils/validation.py:993: DataConversionWarning: A column-vector y was passed when a 1d array was expected. Please change the shape of y to (n_samples, ), for example using ravel().\n",
      "  y = column_or_1d(y, warn=True)\n"
     ]
    },
    {
     "name": "stdout",
     "output_type": "stream",
     "text": [
      "The accuracy of prediction is 99.64%.\n",
      "\n"
     ]
    }
   ],
   "source": [
    "from sklearn.metrics import accuracy_score\n",
    "from sklearn.linear_model import PassiveAggressiveClassifier\n",
    "\n",
    "\n",
    "pa_clf = PassiveAggressiveClassifier(loss = 'squared_hinge',max_iter=50,C=0.16)\n",
    "pa_clf.fit(xv_train, y_train)\n",
    "y_pred = pa_clf.predict(xv_test)\n",
    "\n",
    "accscore = accuracy_score(y_test, y_pred)\n",
    "\n",
    "print('The accuracy of prediction is {:.2f}%.\\n'.format(accscore*100))"
   ]
  }
 ],
 "metadata": {
  "kernelspec": {
   "display_name": "Python 3",
   "language": "python",
   "name": "python3"
  },
  "language_info": {
   "codemirror_mode": {
    "name": "ipython",
    "version": 3
   },
   "file_extension": ".py",
   "mimetype": "text/x-python",
   "name": "python",
   "nbconvert_exporter": "python",
   "pygments_lexer": "ipython3",
   "version": "3.7.12"
  },
  "papermill": {
   "default_parameters": {},
   "duration": 264.306631,
   "end_time": "2022-12-18T04:57:23.447643",
   "environment_variables": {},
   "exception": null,
   "input_path": "__notebook__.ipynb",
   "output_path": "__notebook__.ipynb",
   "parameters": {},
   "start_time": "2022-12-18T04:52:59.141012",
   "version": "2.3.4"
  }
 },
 "nbformat": 4,
 "nbformat_minor": 5
}
